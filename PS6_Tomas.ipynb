{
  "nbformat": 4,
  "nbformat_minor": 0,
  "metadata": {
    "colab": {
      "name": "PS6_Tomas.ipynb",
      "version": "0.3.2",
      "provenance": [],
      "collapsed_sections": [
        "OS2SNl_AwSKk",
        "3P0ZtV9MwSKz"
      ],
      "include_colab_link": true
    },
    "language_info": {
      "codemirror_mode": {
        "name": "ipython",
        "version": 3
      },
      "file_extension": ".py",
      "mimetype": "text/x-python",
      "name": "python",
      "nbconvert_exporter": "python",
      "pygments_lexer": "ipython3",
      "version": "3.6.8"
    },
    "kernelspec": {
      "display_name": "Python 3",
      "language": "python",
      "name": "python3"
    }
  },
  "cells": [
    {
      "cell_type": "markdown",
      "metadata": {
        "id": "view-in-github",
        "colab_type": "text"
      },
      "source": [
        "<a href=\"https://colab.research.google.com/github/girotomas/AppDrawrer/blob/master/PS6_Tomas.ipynb\" target=\"_parent\"><img src=\"https://colab.research.google.com/assets/colab-badge.svg\" alt=\"Open In Colab\"/></a>"
      ]
    },
    {
      "metadata": {
        "id": "9742BHExwSJL",
        "colab_type": "text"
      },
      "cell_type": "markdown",
      "source": [
        "# Assignment 6\n"
      ]
    },
    {
      "metadata": {
        "id": "sZnX9BI0wSJN",
        "colab_type": "text"
      },
      "cell_type": "markdown",
      "source": [
        "### Part 1"
      ]
    },
    {
      "metadata": {
        "id": "8GM-A-04wSJP",
        "colab_type": "code",
        "colab": {}
      },
      "cell_type": "code",
      "source": [
        "from pandas import *\n",
        "from numpy import *\n",
        "from matplotlib.pyplot import *\n",
        "import os\n",
        "from scipy.stats import t as student\n",
        "from IPython.display import Markdown\n",
        "import numpy as np"
      ],
      "execution_count": 0,
      "outputs": []
    },
    {
      "metadata": {
        "id": "smebGjFCwSJW",
        "colab_type": "raw"
      },
      "cell_type": "markdown",
      "source": [
        "import wrds\n",
        "db = wrds.Connection(wrds_username = 'vtissot')\n",
        "db.create_pgpass_file()"
      ]
    },
    {
      "metadata": {
        "id": "UqfFR5rFwSJX",
        "colab_type": "raw"
      },
      "cell_type": "markdown",
      "source": [
        "# Load and clean the data:\n",
        "\n",
        "data = db.raw_sql(\"select  a.permno,a.date, a.ret, a.prc, a.shrout , b.shrcd, b.exchcd\\\n",
        "                    from crsp.msf as a left join crsp.msenames \\\n",
        "                    as b on a.permno = b.permno and b.namedt <= a.date\\\n",
        "                    where a.date >='1970-01-01' and a.date <='2018-12-31'\\\n",
        "                    and  b.shrcd in (10,11) and   b.exchcd in (1,2) \")"
      ]
    },
    {
      "metadata": {
        "id": "ZRBBHVHNxEGo",
        "colab_type": "code",
        "colab": {
          "base_uri": "https://localhost:8080/",
          "height": 122
        },
        "outputId": "13530a8d-5ffa-4919-bf2d-9453123bc479"
      },
      "cell_type": "code",
      "source": [
        "# Load the Drive helper and mount\n",
        "from google.colab import drive\n",
        "\n",
        "# This will prompt for authorization.\n",
        "drive.mount('/content/drive')"
      ],
      "execution_count": 3,
      "outputs": [
        {
          "output_type": "stream",
          "text": [
            "Go to this URL in a browser: https://accounts.google.com/o/oauth2/auth?client_id=947318989803-6bn6qk8qdgf4n4g3pfee6491hc0brc4i.apps.googleusercontent.com&redirect_uri=urn%3Aietf%3Awg%3Aoauth%3A2.0%3Aoob&scope=email%20https%3A%2F%2Fwww.googleapis.com%2Fauth%2Fdocs.test%20https%3A%2F%2Fwww.googleapis.com%2Fauth%2Fdrive%20https%3A%2F%2Fwww.googleapis.com%2Fauth%2Fdrive.photos.readonly%20https%3A%2F%2Fwww.googleapis.com%2Fauth%2Fpeopleapi.readonly&response_type=code\n",
            "\n",
            "Enter your authorization code:\n",
            "··········\n",
            "Mounted at /content/drive\n"
          ],
          "name": "stdout"
        }
      ]
    },
    {
      "metadata": {
        "id": "ZuelJxThxu7-",
        "colab_type": "code",
        "colab": {
          "base_uri": "https://localhost:8080/",
          "height": 34
        },
        "outputId": "12d8a100-8dae-43e4-f55e-d7ddc09f0b5d"
      },
      "cell_type": "code",
      "source": [
        "# files will be present in \"/content/drive/My Drive\".\n",
        "!ls \"/content/drive/My Drive/Cours EPFL/Investments\""
      ],
      "execution_count": 6,
      "outputs": [
        {
          "output_type": "stream",
          "text": [
            "CRSP_cleaned.csv  PS6_Tomas.ipynb  Tbill.csv  VW_CRSP.csv\n"
          ],
          "name": "stdout"
        }
      ]
    },
    {
      "metadata": {
        "id": "AwOIBF0_wSJb",
        "colab_type": "code",
        "colab": {}
      },
      "cell_type": "code",
      "source": [
        "# Load the data:\n",
        "\n",
        "# Tbill:\n",
        "Tbill = read_csv('/content/drive/My Drive/Cours EPFL/Investments/Tbill.csv',index_col = 0)\n",
        "\n",
        "# Value-weighted index returns:\n",
        "VW_CRSP = read_csv('/content/drive/My Drive/Cours EPFL/Investments/VW_CRSP.csv',index_col = 0)\n",
        "\n",
        "# Stocks:\n",
        "CRSP_data = read_csv('/content/drive/My Drive/Cours EPFL/Investments/CRSP_cleaned.csv',index_col = 0)"
      ],
      "execution_count": 0,
      "outputs": []
    },
    {
      "metadata": {
        "id": "xWXsgPRDwSJf",
        "colab_type": "text"
      },
      "cell_type": "markdown",
      "source": [
        "### Part 2"
      ]
    },
    {
      "metadata": {
        "id": "emcWktGlwSJg",
        "colab_type": "code",
        "colab": {
          "base_uri": "https://localhost:8080/",
          "height": 235
        },
        "outputId": "22b56735-6324-404f-9c93-e9f3d752b024"
      },
      "cell_type": "code",
      "source": [
        "# set the same dates for the market return series:\n",
        "\n",
        "L = len(CRSP_data['permno'])\n",
        "\n",
        "DATES = Index(sorted(set(CRSP_data.index)))\n",
        "\n",
        "VW_CRSP = VW_CRSP.set_index(DATES)\n",
        "\n",
        "# Add the market return into the data frame:\n",
        "\n",
        "CRSP_data['Market'] = empty((L,1))\n",
        "\n",
        "for d in DATES:\n",
        "    CRSP_data['Market'].loc[d] = float(VW_CRSP.loc[d].values)\n",
        "\n",
        "display(CRSP_data.head())"
      ],
      "execution_count": 10,
      "outputs": [
        {
          "output_type": "display_data",
          "data": {
            "text/html": [
              "<div>\n",
              "<style scoped>\n",
              "    .dataframe tbody tr th:only-of-type {\n",
              "        vertical-align: middle;\n",
              "    }\n",
              "\n",
              "    .dataframe tbody tr th {\n",
              "        vertical-align: top;\n",
              "    }\n",
              "\n",
              "    .dataframe thead th {\n",
              "        text-align: right;\n",
              "    }\n",
              "</style>\n",
              "<table border=\"1\" class=\"dataframe\">\n",
              "  <thead>\n",
              "    <tr style=\"text-align: right;\">\n",
              "      <th></th>\n",
              "      <th>permno</th>\n",
              "      <th>return</th>\n",
              "      <th>price</th>\n",
              "      <th>shares outstanding</th>\n",
              "      <th>Market</th>\n",
              "    </tr>\n",
              "    <tr>\n",
              "      <th>date</th>\n",
              "      <th></th>\n",
              "      <th></th>\n",
              "      <th></th>\n",
              "      <th></th>\n",
              "      <th></th>\n",
              "    </tr>\n",
              "  </thead>\n",
              "  <tbody>\n",
              "    <tr>\n",
              "      <th>2009-12-31</th>\n",
              "      <td>10001.0</td>\n",
              "      <td>0.162621</td>\n",
              "      <td>10.3000</td>\n",
              "      <td>4361.0</td>\n",
              "      <td>0.028430</td>\n",
              "    </tr>\n",
              "    <tr>\n",
              "      <th>2010-01-29</th>\n",
              "      <td>10001.0</td>\n",
              "      <td>-0.018932</td>\n",
              "      <td>10.0600</td>\n",
              "      <td>4361.0</td>\n",
              "      <td>-0.037098</td>\n",
              "    </tr>\n",
              "    <tr>\n",
              "      <th>2010-02-26</th>\n",
              "      <td>10001.0</td>\n",
              "      <td>-0.000656</td>\n",
              "      <td>10.0084</td>\n",
              "      <td>4361.0</td>\n",
              "      <td>0.034786</td>\n",
              "    </tr>\n",
              "    <tr>\n",
              "      <th>2010-03-31</th>\n",
              "      <td>10001.0</td>\n",
              "      <td>0.020643</td>\n",
              "      <td>10.1700</td>\n",
              "      <td>4361.0</td>\n",
              "      <td>0.063626</td>\n",
              "    </tr>\n",
              "    <tr>\n",
              "      <th>2010-04-30</th>\n",
              "      <td>10001.0</td>\n",
              "      <td>0.124385</td>\n",
              "      <td>11.3900</td>\n",
              "      <td>6070.0</td>\n",
              "      <td>0.020063</td>\n",
              "    </tr>\n",
              "  </tbody>\n",
              "</table>\n",
              "</div>"
            ],
            "text/plain": [
              "             permno    return    price  shares outstanding    Market\n",
              "date                                                                \n",
              "2009-12-31  10001.0  0.162621  10.3000              4361.0  0.028430\n",
              "2010-01-29  10001.0 -0.018932  10.0600              4361.0 -0.037098\n",
              "2010-02-26  10001.0 -0.000656  10.0084              4361.0  0.034786\n",
              "2010-03-31  10001.0  0.020643  10.1700              4361.0  0.063626\n",
              "2010-04-30  10001.0  0.124385  11.3900              6070.0  0.020063"
            ]
          },
          "metadata": {
            "tags": []
          }
        }
      ]
    },
    {
      "metadata": {
        "id": "h90nIU_vwSJk",
        "colab_type": "code",
        "colab": {
          "base_uri": "https://localhost:8080/",
          "height": 390
        },
        "outputId": "968240c1-defb-4e34-fd0a-5599ffd6f324"
      },
      "cell_type": "code",
      "source": [
        "# Compute the betas:\n",
        "\n",
        "CRSP_data['beta'] = empty((L,1))\n",
        "\n",
        "permno = sorted(list(set(CRSP_data['permno'])))\n",
        "\n",
        "variance = CRSP_data.groupby(['permno'])['Market'].var()\n",
        "\n",
        "for p in permno:\n",
        "    \n",
        "    cov = CRSP_data['return'].loc[CRSP_data['permno'] == p]\\\n",
        "         .cov(CRSP_data['Market'].loc[CRSP_data['permno'] == p])\n",
        "\n",
        "    #variance  = CRSP_data['Market'].loc[CRSP_data['permno'] == p].var()\n",
        "\n",
        "    CRSP_data['beta'].loc[CRSP_data['permno'] == p] = cov/variance.loc[p]\n",
        "    \n",
        "display(CRSP_data.tail(10))"
      ],
      "execution_count": 11,
      "outputs": [
        {
          "output_type": "display_data",
          "data": {
            "text/html": [
              "<div>\n",
              "<style scoped>\n",
              "    .dataframe tbody tr th:only-of-type {\n",
              "        vertical-align: middle;\n",
              "    }\n",
              "\n",
              "    .dataframe tbody tr th {\n",
              "        vertical-align: top;\n",
              "    }\n",
              "\n",
              "    .dataframe thead th {\n",
              "        text-align: right;\n",
              "    }\n",
              "</style>\n",
              "<table border=\"1\" class=\"dataframe\">\n",
              "  <thead>\n",
              "    <tr style=\"text-align: right;\">\n",
              "      <th></th>\n",
              "      <th>permno</th>\n",
              "      <th>return</th>\n",
              "      <th>price</th>\n",
              "      <th>shares outstanding</th>\n",
              "      <th>Market</th>\n",
              "      <th>beta</th>\n",
              "    </tr>\n",
              "    <tr>\n",
              "      <th>date</th>\n",
              "      <th></th>\n",
              "      <th></th>\n",
              "      <th></th>\n",
              "      <th></th>\n",
              "      <th></th>\n",
              "      <th></th>\n",
              "    </tr>\n",
              "  </thead>\n",
              "  <tbody>\n",
              "    <tr>\n",
              "      <th>2018-03-29</th>\n",
              "      <td>93426.0</td>\n",
              "      <td>0.040067</td>\n",
              "      <td>31.150000</td>\n",
              "      <td>12402.0</td>\n",
              "      <td>-0.018433</td>\n",
              "      <td>0.992034</td>\n",
              "    </tr>\n",
              "    <tr>\n",
              "      <th>2018-04-30</th>\n",
              "      <td>93426.0</td>\n",
              "      <td>-0.091493</td>\n",
              "      <td>28.299999</td>\n",
              "      <td>12423.0</td>\n",
              "      <td>0.004769</td>\n",
              "      <td>0.992034</td>\n",
              "    </tr>\n",
              "    <tr>\n",
              "      <th>2018-05-31</th>\n",
              "      <td>93426.0</td>\n",
              "      <td>0.326855</td>\n",
              "      <td>37.549999</td>\n",
              "      <td>12429.0</td>\n",
              "      <td>0.026170</td>\n",
              "      <td>0.992034</td>\n",
              "    </tr>\n",
              "    <tr>\n",
              "      <th>2018-06-29</th>\n",
              "      <td>93426.0</td>\n",
              "      <td>0.015979</td>\n",
              "      <td>38.150002</td>\n",
              "      <td>12429.0</td>\n",
              "      <td>0.005334</td>\n",
              "      <td>0.992034</td>\n",
              "    </tr>\n",
              "    <tr>\n",
              "      <th>2018-07-31</th>\n",
              "      <td>93426.0</td>\n",
              "      <td>0.045872</td>\n",
              "      <td>39.900002</td>\n",
              "      <td>12429.0</td>\n",
              "      <td>0.031605</td>\n",
              "      <td>0.992034</td>\n",
              "    </tr>\n",
              "    <tr>\n",
              "      <th>2018-08-31</th>\n",
              "      <td>93426.0</td>\n",
              "      <td>0.085213</td>\n",
              "      <td>43.299999</td>\n",
              "      <td>12449.0</td>\n",
              "      <td>0.030221</td>\n",
              "      <td>0.992034</td>\n",
              "    </tr>\n",
              "    <tr>\n",
              "      <th>2018-09-28</th>\n",
              "      <td>93426.0</td>\n",
              "      <td>-0.136259</td>\n",
              "      <td>37.400002</td>\n",
              "      <td>12449.0</td>\n",
              "      <td>0.000443</td>\n",
              "      <td>0.992034</td>\n",
              "    </tr>\n",
              "    <tr>\n",
              "      <th>2018-10-31</th>\n",
              "      <td>93426.0</td>\n",
              "      <td>-0.132353</td>\n",
              "      <td>32.450001</td>\n",
              "      <td>12449.0</td>\n",
              "      <td>-0.074031</td>\n",
              "      <td>0.992034</td>\n",
              "    </tr>\n",
              "    <tr>\n",
              "      <th>2018-11-30</th>\n",
              "      <td>93426.0</td>\n",
              "      <td>0.045609</td>\n",
              "      <td>33.930000</td>\n",
              "      <td>12449.0</td>\n",
              "      <td>0.018530</td>\n",
              "      <td>0.992034</td>\n",
              "    </tr>\n",
              "    <tr>\n",
              "      <th>2018-12-31</th>\n",
              "      <td>93426.0</td>\n",
              "      <td>-0.109048</td>\n",
              "      <td>30.230000</td>\n",
              "      <td>12449.0</td>\n",
              "      <td>-0.089810</td>\n",
              "      <td>0.992034</td>\n",
              "    </tr>\n",
              "  </tbody>\n",
              "</table>\n",
              "</div>"
            ],
            "text/plain": [
              "             permno    return      price  shares outstanding    Market  \\\n",
              "date                                                                     \n",
              "2018-03-29  93426.0  0.040067  31.150000             12402.0 -0.018433   \n",
              "2018-04-30  93426.0 -0.091493  28.299999             12423.0  0.004769   \n",
              "2018-05-31  93426.0  0.326855  37.549999             12429.0  0.026170   \n",
              "2018-06-29  93426.0  0.015979  38.150002             12429.0  0.005334   \n",
              "2018-07-31  93426.0  0.045872  39.900002             12429.0  0.031605   \n",
              "2018-08-31  93426.0  0.085213  43.299999             12449.0  0.030221   \n",
              "2018-09-28  93426.0 -0.136259  37.400002             12449.0  0.000443   \n",
              "2018-10-31  93426.0 -0.132353  32.450001             12449.0 -0.074031   \n",
              "2018-11-30  93426.0  0.045609  33.930000             12449.0  0.018530   \n",
              "2018-12-31  93426.0 -0.109048  30.230000             12449.0 -0.089810   \n",
              "\n",
              "                beta  \n",
              "date                  \n",
              "2018-03-29  0.992034  \n",
              "2018-04-30  0.992034  \n",
              "2018-05-31  0.992034  \n",
              "2018-06-29  0.992034  \n",
              "2018-07-31  0.992034  \n",
              "2018-08-31  0.992034  \n",
              "2018-09-28  0.992034  \n",
              "2018-10-31  0.992034  \n",
              "2018-11-30  0.992034  \n",
              "2018-12-31  0.992034  "
            ]
          },
          "metadata": {
            "tags": []
          }
        }
      ]
    },
    {
      "metadata": {
        "id": "C0F2LVYEwSJo",
        "colab_type": "code",
        "colab": {
          "base_uri": "https://localhost:8080/",
          "height": 475
        },
        "outputId": "73ed7376-a062-4d18-f774-96c47fd8bad3"
      },
      "cell_type": "code",
      "source": [
        "# Portfolios for each deciles:\n",
        "CRSP_data['decile']= empty((L,1))\n",
        "\n",
        "for date in DATES:\n",
        "    CRSP_data['decile'].loc[date] = qcut(CRSP_data['beta'].loc[date], 10, labels=range(10))\n",
        "    \n",
        "info = CRSP_data.groupby('decile').mean()\n",
        "\n",
        "display(info)"
      ],
      "execution_count": 12,
      "outputs": [
        {
          "output_type": "stream",
          "text": [
            "/usr/local/lib/python3.6/dist-packages/pandas/core/indexing.py:190: SettingWithCopyWarning: \n",
            "A value is trying to be set on a copy of a slice from a DataFrame\n",
            "\n",
            "See the caveats in the documentation: http://pandas.pydata.org/pandas-docs/stable/indexing.html#indexing-view-versus-copy\n",
            "  self._setitem_with_indexer(indexer, value)\n"
          ],
          "name": "stderr"
        },
        {
          "output_type": "display_data",
          "data": {
            "text/html": [
              "<div>\n",
              "<style scoped>\n",
              "    .dataframe tbody tr th:only-of-type {\n",
              "        vertical-align: middle;\n",
              "    }\n",
              "\n",
              "    .dataframe tbody tr th {\n",
              "        vertical-align: top;\n",
              "    }\n",
              "\n",
              "    .dataframe thead th {\n",
              "        text-align: right;\n",
              "    }\n",
              "</style>\n",
              "<table border=\"1\" class=\"dataframe\">\n",
              "  <thead>\n",
              "    <tr style=\"text-align: right;\">\n",
              "      <th></th>\n",
              "      <th>permno</th>\n",
              "      <th>return</th>\n",
              "      <th>price</th>\n",
              "      <th>shares outstanding</th>\n",
              "      <th>Market</th>\n",
              "      <th>beta</th>\n",
              "    </tr>\n",
              "    <tr>\n",
              "      <th>decile</th>\n",
              "      <th></th>\n",
              "      <th></th>\n",
              "      <th></th>\n",
              "      <th></th>\n",
              "      <th></th>\n",
              "      <th></th>\n",
              "    </tr>\n",
              "  </thead>\n",
              "  <tbody>\n",
              "    <tr>\n",
              "      <th>0</th>\n",
              "      <td>43124.124008</td>\n",
              "      <td>0.010114</td>\n",
              "      <td>27.919057</td>\n",
              "      <td>90473.556458</td>\n",
              "      <td>0.008392</td>\n",
              "      <td>0.366386</td>\n",
              "    </tr>\n",
              "    <tr>\n",
              "      <th>1</th>\n",
              "      <td>44099.222821</td>\n",
              "      <td>0.011089</td>\n",
              "      <td>401.600878</td>\n",
              "      <td>196265.627787</td>\n",
              "      <td>0.008384</td>\n",
              "      <td>0.642808</td>\n",
              "    </tr>\n",
              "    <tr>\n",
              "      <th>2</th>\n",
              "      <td>45516.330085</td>\n",
              "      <td>0.011358</td>\n",
              "      <td>44.473612</td>\n",
              "      <td>159898.064490</td>\n",
              "      <td>0.008399</td>\n",
              "      <td>0.801042</td>\n",
              "    </tr>\n",
              "    <tr>\n",
              "      <th>3</th>\n",
              "      <td>45687.022680</td>\n",
              "      <td>0.011023</td>\n",
              "      <td>31.676119</td>\n",
              "      <td>115615.149005</td>\n",
              "      <td>0.008391</td>\n",
              "      <td>0.928695</td>\n",
              "    </tr>\n",
              "    <tr>\n",
              "      <th>4</th>\n",
              "      <td>43214.507926</td>\n",
              "      <td>0.011764</td>\n",
              "      <td>30.915042</td>\n",
              "      <td>93073.337720</td>\n",
              "      <td>0.008397</td>\n",
              "      <td>1.036215</td>\n",
              "    </tr>\n",
              "    <tr>\n",
              "      <th>5</th>\n",
              "      <td>42028.389228</td>\n",
              "      <td>0.010858</td>\n",
              "      <td>30.438060</td>\n",
              "      <td>129341.093852</td>\n",
              "      <td>0.008387</td>\n",
              "      <td>1.138235</td>\n",
              "    </tr>\n",
              "    <tr>\n",
              "      <th>6</th>\n",
              "      <td>45123.558190</td>\n",
              "      <td>0.011609</td>\n",
              "      <td>27.734158</td>\n",
              "      <td>119225.884298</td>\n",
              "      <td>0.008410</td>\n",
              "      <td>1.244133</td>\n",
              "    </tr>\n",
              "    <tr>\n",
              "      <th>7</th>\n",
              "      <td>48634.549373</td>\n",
              "      <td>0.010864</td>\n",
              "      <td>26.745871</td>\n",
              "      <td>147629.904859</td>\n",
              "      <td>0.008375</td>\n",
              "      <td>1.366953</td>\n",
              "    </tr>\n",
              "    <tr>\n",
              "      <th>8</th>\n",
              "      <td>50552.658328</td>\n",
              "      <td>0.011349</td>\n",
              "      <td>22.216071</td>\n",
              "      <td>116202.720567</td>\n",
              "      <td>0.008394</td>\n",
              "      <td>1.558517</td>\n",
              "    </tr>\n",
              "    <tr>\n",
              "      <th>9</th>\n",
              "      <td>58277.643227</td>\n",
              "      <td>0.010587</td>\n",
              "      <td>17.186929</td>\n",
              "      <td>78042.357179</td>\n",
              "      <td>0.008393</td>\n",
              "      <td>2.028318</td>\n",
              "    </tr>\n",
              "  </tbody>\n",
              "</table>\n",
              "</div>"
            ],
            "text/plain": [
              "              permno    return       price  shares outstanding    Market  \\\n",
              "decile                                                                     \n",
              "0       43124.124008  0.010114   27.919057        90473.556458  0.008392   \n",
              "1       44099.222821  0.011089  401.600878       196265.627787  0.008384   \n",
              "2       45516.330085  0.011358   44.473612       159898.064490  0.008399   \n",
              "3       45687.022680  0.011023   31.676119       115615.149005  0.008391   \n",
              "4       43214.507926  0.011764   30.915042        93073.337720  0.008397   \n",
              "5       42028.389228  0.010858   30.438060       129341.093852  0.008387   \n",
              "6       45123.558190  0.011609   27.734158       119225.884298  0.008410   \n",
              "7       48634.549373  0.010864   26.745871       147629.904859  0.008375   \n",
              "8       50552.658328  0.011349   22.216071       116202.720567  0.008394   \n",
              "9       58277.643227  0.010587   17.186929        78042.357179  0.008393   \n",
              "\n",
              "            beta  \n",
              "decile            \n",
              "0       0.366386  \n",
              "1       0.642808  \n",
              "2       0.801042  \n",
              "3       0.928695  \n",
              "4       1.036215  \n",
              "5       1.138235  \n",
              "6       1.244133  \n",
              "7       1.366953  \n",
              "8       1.558517  \n",
              "9       2.028318  "
            ]
          },
          "metadata": {
            "tags": []
          }
        }
      ]
    },
    {
      "metadata": {
        "scrolled": false,
        "id": "_78KC8cFwSJs",
        "colab_type": "code",
        "colab": {
          "base_uri": "https://localhost:8080/",
          "height": 513
        },
        "outputId": "42c9dcfb-85d0-4541-b8ed-7069656a391a"
      },
      "cell_type": "code",
      "source": [
        "# Create a function to plot the result:\n",
        "\n",
        "def plot_CAPM(X,Y, myTitle='Average return vs. beta'): \n",
        "    '''X: betas, Y: return'''\n",
        "\n",
        "    figure(figsize=(10,8))\n",
        "\n",
        "    scatter(X,Y,label = 'portfolio returns')\n",
        "\n",
        "    plot(X, poly1d(polyfit(X, Y, 1))(X),'r',label = 'regression line')\n",
        "\n",
        "    # Security Market Line\n",
        "\n",
        "    # average return on the market:\n",
        "    mu_M = CRSP_data['Market'].mean()\n",
        "\n",
        "    # Risk free rate:\n",
        "    \n",
        "    R_0  = float(Tbill.mean()/100)\n",
        "\n",
        "    grid = linspace(min(X),max(X),50)\n",
        "\n",
        "    SML  = R_0 +  grid * (mu_M - R_0)\n",
        "\n",
        "    plot(grid,SML,'--k',label = 'SML')\n",
        "\n",
        "    title(myTitle)\n",
        "    xlabel('Beta')\n",
        "    ylabel('Return')\n",
        "    legend()\n",
        "    show()\n",
        "\n",
        "# scatter plot and regression line\n",
        "\n",
        "plot_CAPM(info['beta'],info['return'])\n"
      ],
      "execution_count": 13,
      "outputs": [
        {
          "output_type": "display_data",
          "data": {
            "image/png": "[encoded data removed]",
            "text/plain": [
              "<Figure size 720x576 with 1 Axes>"
            ]
          },
          "metadata": {
            "tags": []
          }
        }
      ]
    },
    {
      "metadata": {
        "id": "l5bZfG0DwSJw",
        "colab_type": "text"
      },
      "cell_type": "markdown",
      "source": [
        "*Compare the slope of the regression line to that of the average excess return on the market:*\n",
        "\n",
        "We can observe that the slope of the regression line is a lot less steep than the one for the excess return on the market. This result is coherent with the research that we have seen in the lecture. It might be because most market participants cannot really borrow at the Tbill rate."
      ]
    },
    {
      "metadata": {
        "id": "fuunkH0_wSJx",
        "colab_type": "text"
      },
      "cell_type": "markdown",
      "source": [
        "### Part 3\n"
      ]
    },
    {
      "metadata": {
        "id": "EQS8hTcvwSJy",
        "colab_type": "code",
        "colab": {
          "base_uri": "https://localhost:8080/",
          "height": 470
        },
        "outputId": "4f4de59f-966a-4f25-d9a8-43bdb3a5764c"
      },
      "cell_type": "code",
      "source": [
        "# We create a function:\n",
        "\n",
        "def High_minus_Low_Beta_Performance(Returns_decile):\n",
        "    \n",
        "    Returns_High_minus_Low_Beta =  Returns_decile.loc[9] - Returns_decile.loc[0]\n",
        "    # average return:\n",
        "    Mu_High_minus_Low_Beta  =  Returns_High_minus_Low_Beta.mean()\n",
        "\n",
        "    # standard deviation\n",
        "    Std_High_minus_Low_Beta =  Returns_High_minus_Low_Beta.std()\n",
        "\n",
        "    # t-statistic:\n",
        "\n",
        "    T = Returns_High_minus_Low_Beta.count()\n",
        "\n",
        "    t = Mu_High_minus_Low_Beta / (Std_High_minus_Low_Beta/sqrt(T))\n",
        "\n",
        "    p_value = 1 - ( student.cdf(t, T-1) - 0.5 ) * 2\n",
        "\n",
        "    display(DataFrame([[Mu_High_minus_Low_Beta,Std_High_minus_Low_Beta,t, p_value]],\n",
        "                      columns = ['Return','Standard deviation','t-statistic', 'p-value'],\n",
        "                      index = Index(['High minus Low Beta Strategy']) ))\n",
        "\n",
        "    \n",
        "# Compute the EW monthly return for each portfolio\n",
        "\n",
        "Returns_decile = CRSP_data.groupby(['decile','date'])['return'].mean()\n",
        "display(DataFrame(Returns_decile).head(10))\n",
        "\n",
        "# Call the above function\n",
        "print('Equally weighted betting on forward looking beta performance:')\n",
        "High_minus_Low_Beta_Performance(Returns_decile)"
      ],
      "execution_count": 14,
      "outputs": [
        {
          "output_type": "display_data",
          "data": {
            "text/html": [
              "<div>\n",
              "<style scoped>\n",
              "    .dataframe tbody tr th:only-of-type {\n",
              "        vertical-align: middle;\n",
              "    }\n",
              "\n",
              "    .dataframe tbody tr th {\n",
              "        vertical-align: top;\n",
              "    }\n",
              "\n",
              "    .dataframe thead th {\n",
              "        text-align: right;\n",
              "    }\n",
              "</style>\n",
              "<table border=\"1\" class=\"dataframe\">\n",
              "  <thead>\n",
              "    <tr style=\"text-align: right;\">\n",
              "      <th></th>\n",
              "      <th></th>\n",
              "      <th>return</th>\n",
              "    </tr>\n",
              "    <tr>\n",
              "      <th>decile</th>\n",
              "      <th>date</th>\n",
              "      <th></th>\n",
              "    </tr>\n",
              "  </thead>\n",
              "  <tbody>\n",
              "    <tr>\n",
              "      <th rowspan=\"10\" valign=\"top\">0</th>\n",
              "      <th>1970-01-30</th>\n",
              "      <td>-0.010733</td>\n",
              "    </tr>\n",
              "    <tr>\n",
              "      <th>1970-02-27</th>\n",
              "      <td>0.039031</td>\n",
              "    </tr>\n",
              "    <tr>\n",
              "      <th>1970-03-31</th>\n",
              "      <td>0.021486</td>\n",
              "    </tr>\n",
              "    <tr>\n",
              "      <th>1970-04-30</th>\n",
              "      <td>-0.083593</td>\n",
              "    </tr>\n",
              "    <tr>\n",
              "      <th>1970-05-29</th>\n",
              "      <td>-0.057287</td>\n",
              "    </tr>\n",
              "    <tr>\n",
              "      <th>1970-06-30</th>\n",
              "      <td>-0.026253</td>\n",
              "    </tr>\n",
              "    <tr>\n",
              "      <th>1970-07-31</th>\n",
              "      <td>0.044145</td>\n",
              "    </tr>\n",
              "    <tr>\n",
              "      <th>1970-08-31</th>\n",
              "      <td>0.030731</td>\n",
              "    </tr>\n",
              "    <tr>\n",
              "      <th>1970-09-30</th>\n",
              "      <td>0.037204</td>\n",
              "    </tr>\n",
              "    <tr>\n",
              "      <th>1970-10-30</th>\n",
              "      <td>-0.000691</td>\n",
              "    </tr>\n",
              "  </tbody>\n",
              "</table>\n",
              "</div>"
            ],
            "text/plain": [
              "                     return\n",
              "decile date                \n",
              "0      1970-01-30 -0.010733\n",
              "       1970-02-27  0.039031\n",
              "       1970-03-31  0.021486\n",
              "       1970-04-30 -0.083593\n",
              "       1970-05-29 -0.057287\n",
              "       1970-06-30 -0.026253\n",
              "       1970-07-31  0.044145\n",
              "       1970-08-31  0.030731\n",
              "       1970-09-30  0.037204\n",
              "       1970-10-30 -0.000691"
            ]
          },
          "metadata": {
            "tags": []
          }
        },
        {
          "output_type": "stream",
          "text": [
            "Equally weighted betting on forward looking beta performance:\n"
          ],
          "name": "stdout"
        },
        {
          "output_type": "display_data",
          "data": {
            "text/html": [
              "<div>\n",
              "<style scoped>\n",
              "    .dataframe tbody tr th:only-of-type {\n",
              "        vertical-align: middle;\n",
              "    }\n",
              "\n",
              "    .dataframe tbody tr th {\n",
              "        vertical-align: top;\n",
              "    }\n",
              "\n",
              "    .dataframe thead th {\n",
              "        text-align: right;\n",
              "    }\n",
              "</style>\n",
              "<table border=\"1\" class=\"dataframe\">\n",
              "  <thead>\n",
              "    <tr style=\"text-align: right;\">\n",
              "      <th></th>\n",
              "      <th>Return</th>\n",
              "      <th>Standard deviation</th>\n",
              "      <th>t-statistic</th>\n",
              "      <th>p-value</th>\n",
              "    </tr>\n",
              "  </thead>\n",
              "  <tbody>\n",
              "    <tr>\n",
              "      <th>High minus Low Beta Strategy</th>\n",
              "      <td>0.001034</td>\n",
              "      <td>0.084966</td>\n",
              "      <td>0.295209</td>\n",
              "      <td>0.767939</td>\n",
              "    </tr>\n",
              "  </tbody>\n",
              "</table>\n",
              "</div>"
            ],
            "text/plain": [
              "                                Return  Standard deviation  t-statistic  \\\n",
              "High minus Low Beta Strategy  0.001034            0.084966     0.295209   \n",
              "\n",
              "                               p-value  \n",
              "High minus Low Beta Strategy  0.767939  "
            ]
          },
          "metadata": {
            "tags": []
          }
        }
      ]
    },
    {
      "metadata": {
        "id": "B6vR0GuKwSJ3",
        "colab_type": "text"
      },
      "cell_type": "markdown",
      "source": [
        "*Is  the  return  statistically  significantly  different  from zero?*\n",
        "The p-value from the T-statistic of the two sided test for mu=0 (H0) is 0.77. The evidence is not significant against the returns being zero.\n",
        "\n",
        "This evidence does not look consistent with the CAPM. One would expect that this strategy gave a positive return, because the CAPM predicts higher returns for higher beta stocks."
      ]
    },
    {
      "metadata": {
        "id": "HouYmv2QwSJ6",
        "colab_type": "text"
      },
      "cell_type": "markdown",
      "source": [
        "### Part 4"
      ]
    },
    {
      "metadata": {
        "id": "B76SwxsFwSJ9",
        "colab_type": "code",
        "colab": {
          "base_uri": "https://localhost:8080/",
          "height": 886
        },
        "outputId": "aa458e37-82f9-4a7e-ca1b-4b6ec813fb13"
      },
      "cell_type": "code",
      "source": [
        "# Market capitalization \n",
        "\n",
        "CRSP_data['Market cap'] =  (CRSP_data['price'] *\\\n",
        "                                        CRSP_data['shares outstanding'])\n",
        "\n",
        "# MCAP-value-weighting betas and returns:\n",
        "\n",
        "def VW_average(group, name, weight):                                \n",
        "    ''' description: group takes the decile group, name is the name of the statistic to be\n",
        "        computed and weight is how to weight (Market Cap) \n",
        "        \n",
        "        usage:  CRSP_data.groupby(['decile']).apply(VW_average,'return','Market cap')'''\n",
        "    \n",
        "    d = group[name]\n",
        "    \n",
        "    # For the VW return, use the market cap of the previous month:\n",
        "    if name == 'return':\n",
        "        w = group[weight].shift(1)\n",
        "    else:\n",
        "        w = group[weight]\n",
        "    try:\n",
        "        return (d * w).sum() / w.sum()\n",
        "    \n",
        "    except ZeroDivisionError:\n",
        "        \n",
        "        return nan\n",
        "    \n",
        "info_VW = DataFrame()\n",
        "\n",
        "# Value-weigthed returns:\n",
        "info_VW['VW return'] = CRSP_data.groupby('decile').apply(VW_average,'return','Market cap')\n",
        "info_VW['VW beta']   = CRSP_data.groupby('decile').apply(VW_average,'beta','Market cap')\n",
        "\n",
        "plot_CAPM(info_VW['VW beta'], info_VW['VW return'])\n",
        "\n",
        "display(info_VW.head(10))\n"
      ],
      "execution_count": 15,
      "outputs": [
        {
          "output_type": "display_data",
          "data": {
            "image/png": "[encoded data removed]",
            "text/plain": [
              "<Figure size 720x576 with 1 Axes>"
            ]
          },
          "metadata": {
            "tags": []
          }
        },
        {
          "output_type": "display_data",
          "data": {
            "text/html": [
              "<div>\n",
              "<style scoped>\n",
              "    .dataframe tbody tr th:only-of-type {\n",
              "        vertical-align: middle;\n",
              "    }\n",
              "\n",
              "    .dataframe tbody tr th {\n",
              "        vertical-align: top;\n",
              "    }\n",
              "\n",
              "    .dataframe thead th {\n",
              "        text-align: right;\n",
              "    }\n",
              "</style>\n",
              "<table border=\"1\" class=\"dataframe\">\n",
              "  <thead>\n",
              "    <tr style=\"text-align: right;\">\n",
              "      <th></th>\n",
              "      <th>VW return</th>\n",
              "      <th>VW beta</th>\n",
              "    </tr>\n",
              "    <tr>\n",
              "      <th>decile</th>\n",
              "      <th></th>\n",
              "      <th></th>\n",
              "    </tr>\n",
              "  </thead>\n",
              "  <tbody>\n",
              "    <tr>\n",
              "      <th>0</th>\n",
              "      <td>0.007502</td>\n",
              "      <td>0.406801</td>\n",
              "    </tr>\n",
              "    <tr>\n",
              "      <th>1</th>\n",
              "      <td>0.007452</td>\n",
              "      <td>0.611249</td>\n",
              "    </tr>\n",
              "    <tr>\n",
              "      <th>2</th>\n",
              "      <td>0.007905</td>\n",
              "      <td>0.764205</td>\n",
              "    </tr>\n",
              "    <tr>\n",
              "      <th>3</th>\n",
              "      <td>0.007221</td>\n",
              "      <td>0.906023</td>\n",
              "    </tr>\n",
              "    <tr>\n",
              "      <th>4</th>\n",
              "      <td>0.007698</td>\n",
              "      <td>1.019615</td>\n",
              "    </tr>\n",
              "    <tr>\n",
              "      <th>5</th>\n",
              "      <td>0.005564</td>\n",
              "      <td>1.133643</td>\n",
              "    </tr>\n",
              "    <tr>\n",
              "      <th>6</th>\n",
              "      <td>0.007043</td>\n",
              "      <td>1.265258</td>\n",
              "    </tr>\n",
              "    <tr>\n",
              "      <th>7</th>\n",
              "      <td>0.003689</td>\n",
              "      <td>1.385063</td>\n",
              "    </tr>\n",
              "    <tr>\n",
              "      <th>8</th>\n",
              "      <td>0.002206</td>\n",
              "      <td>1.633719</td>\n",
              "    </tr>\n",
              "    <tr>\n",
              "      <th>9</th>\n",
              "      <td>0.001508</td>\n",
              "      <td>2.002847</td>\n",
              "    </tr>\n",
              "  </tbody>\n",
              "</table>\n",
              "</div>"
            ],
            "text/plain": [
              "        VW return   VW beta\n",
              "decile                     \n",
              "0        0.007502  0.406801\n",
              "1        0.007452  0.611249\n",
              "2        0.007905  0.764205\n",
              "3        0.007221  0.906023\n",
              "4        0.007698  1.019615\n",
              "5        0.005564  1.133643\n",
              "6        0.007043  1.265258\n",
              "7        0.003689  1.385063\n",
              "8        0.002206  1.633719\n",
              "9        0.001508  2.002847"
            ]
          },
          "metadata": {
            "tags": []
          }
        }
      ]
    },
    {
      "metadata": {
        "id": "QgLocWhEwSKB",
        "colab_type": "code",
        "colab": {
          "base_uri": "https://localhost:8080/",
          "height": 97
        },
        "outputId": "fed22079-a0c9-466d-c8a0-9b6f80ea85e6"
      },
      "cell_type": "code",
      "source": [
        "# VW performance:\n",
        "\n",
        "Return_decile_VW = CRSP_data.groupby(['decile','date']).apply(VW_average,'return','Market cap')\n",
        "\n",
        "# Call the function to print the t-statistic of the test:\n",
        "# H0: HML (High Minus Low beta) strategy has a zero mean return.\n",
        "print('Value weighted betting on forward looking beta performance:')\n",
        "High_minus_Low_Beta_Performance(Return_decile_VW )"
      ],
      "execution_count": 16,
      "outputs": [
        {
          "output_type": "stream",
          "text": [
            "Value weighted betting on forward looking beta performance:\n"
          ],
          "name": "stdout"
        },
        {
          "output_type": "display_data",
          "data": {
            "text/html": [
              "<div>\n",
              "<style scoped>\n",
              "    .dataframe tbody tr th:only-of-type {\n",
              "        vertical-align: middle;\n",
              "    }\n",
              "\n",
              "    .dataframe tbody tr th {\n",
              "        vertical-align: top;\n",
              "    }\n",
              "\n",
              "    .dataframe thead th {\n",
              "        text-align: right;\n",
              "    }\n",
              "</style>\n",
              "<table border=\"1\" class=\"dataframe\">\n",
              "  <thead>\n",
              "    <tr style=\"text-align: right;\">\n",
              "      <th></th>\n",
              "      <th>Return</th>\n",
              "      <th>Standard deviation</th>\n",
              "      <th>t-statistic</th>\n",
              "      <th>p-value</th>\n",
              "    </tr>\n",
              "  </thead>\n",
              "  <tbody>\n",
              "    <tr>\n",
              "      <th>High minus Low Beta Strategy</th>\n",
              "      <td>0.002244</td>\n",
              "      <td>0.075834</td>\n",
              "      <td>0.7177</td>\n",
              "      <td>0.473228</td>\n",
              "    </tr>\n",
              "  </tbody>\n",
              "</table>\n",
              "</div>"
            ],
            "text/plain": [
              "                                Return  Standard deviation  t-statistic  \\\n",
              "High minus Low Beta Strategy  0.002244            0.075834       0.7177   \n",
              "\n",
              "                               p-value  \n",
              "High minus Low Beta Strategy  0.473228  "
            ]
          },
          "metadata": {
            "tags": []
          }
        }
      ]
    },
    {
      "metadata": {
        "id": "0cJCv4bAwSKG",
        "colab_type": "text"
      },
      "cell_type": "markdown",
      "source": [
        "### Part 5\n",
        "#### *We  would  like  to  have  a  test  that does not suffer from look ahead bias*"
      ]
    },
    {
      "metadata": {
        "scrolled": true,
        "id": "LD8s5pl-wSKH",
        "colab_type": "code",
        "colab": {
          "base_uri": "https://localhost:8080/",
          "height": 102
        },
        "outputId": "1c66aacb-ebe9-46c0-d3a1-a0f5ea7266c3"
      },
      "cell_type": "code",
      "source": [
        "# Compute the no-look-ahead betas:\n",
        "\n",
        "CRSP_data['beta no look ahead'] = empty((L,1))\n",
        "\n",
        "permno = sorted(list(set(CRSP_data['permno'])))\n",
        "\n",
        "variance_no_look_ahead = CRSP_data.groupby(['permno'])['Market'].rolling(24).var()\n",
        "\n",
        "for p in permno:\n",
        "    \n",
        "    cov = CRSP_data['return']\\\n",
        "    .loc[CRSP_data['permno'] == p].rolling(24)\\\n",
        "         .cov( CRSP_data['Market']\\\n",
        "    .loc[CRSP_data['permno'] == p]) #    <---  \n",
        "\n",
        "    CRSP_data['beta no look ahead'].loc[CRSP_data['permno'] == p] = cov/variance_no_look_ahead.loc[p]\n",
        "    \n"
      ],
      "execution_count": 17,
      "outputs": [
        {
          "output_type": "stream",
          "text": [
            "/usr/local/lib/python3.6/dist-packages/pandas/core/indexing.py:190: SettingWithCopyWarning: \n",
            "A value is trying to be set on a copy of a slice from a DataFrame\n",
            "\n",
            "See the caveats in the documentation: http://pandas.pydata.org/pandas-docs/stable/indexing.html#indexing-view-versus-copy\n",
            "  self._setitem_with_indexer(indexer, value)\n"
          ],
          "name": "stderr"
        }
      ]
    },
    {
      "metadata": {
        "id": "GAAWFBWUwSKL",
        "colab_type": "code",
        "colab": {
          "base_uri": "https://localhost:8080/",
          "height": 102
        },
        "outputId": "1da3283c-6daa-41c0-b017-bca74601691a"
      },
      "cell_type": "code",
      "source": [
        "# every month form decile portfolios based on these betas estimated from past data\n",
        "# compute the average returns of these decile portfolios\n",
        "\n",
        "CRSP_data['decile no look ahead']= empty((L,1))\n",
        "\n",
        "for date in DATES:\n",
        "    CRSP_data['decile no look ahead'].loc[date] = qcut(CRSP_data['beta no look ahead']\\\n",
        "                                                       .loc[date], 10, labels=range(10))\n",
        "    \n",
        "info_no_look_ahead = CRSP_data.groupby('decile no look ahead').mean()\n",
        "\n"
      ],
      "execution_count": 18,
      "outputs": [
        {
          "output_type": "stream",
          "text": [
            "/usr/local/lib/python3.6/dist-packages/pandas/core/indexing.py:190: SettingWithCopyWarning: \n",
            "A value is trying to be set on a copy of a slice from a DataFrame\n",
            "\n",
            "See the caveats in the documentation: http://pandas.pydata.org/pandas-docs/stable/indexing.html#indexing-view-versus-copy\n",
            "  self._setitem_with_indexer(indexer, value)\n"
          ],
          "name": "stderr"
        }
      ]
    },
    {
      "metadata": {
        "scrolled": false,
        "id": "IZ0NCKggwSKO",
        "colab_type": "code",
        "colab": {
          "base_uri": "https://localhost:8080/",
          "height": 513
        },
        "outputId": "09fee33b-3545-444a-9d8b-437623443b99"
      },
      "cell_type": "code",
      "source": [
        "# Plot the average return to these‘out-of-sample-beta’ decile portfolios versus their average beta\n",
        "\n",
        "plot_CAPM(info_no_look_ahead['beta no look ahead'] , # average betas not forward looking betas\n",
        "          info_no_look_ahead['return'] ) # expected returns"
      ],
      "execution_count": 19,
      "outputs": [
        {
          "output_type": "display_data",
          "data": {
            "image/png": "[encoded data removed]",
            "text/plain": [
              "<Figure size 720x576 with 1 Axes>"
            ]
          },
          "metadata": {
            "tags": []
          }
        }
      ]
    },
    {
      "metadata": {
        "id": "52DNm92awSKR",
        "colab_type": "code",
        "colab": {
          "base_uri": "https://localhost:8080/",
          "height": 97
        },
        "outputId": "d3d07dae-5e89-4a7e-c6cd-c28d762ce357"
      },
      "cell_type": "code",
      "source": [
        "# compute the average and standard error of the return to a long-short strategy\n",
        "# that goes long the high-beta decile and shorts the low-beta decile portfolio\n",
        "\n",
        "\n",
        "# Compute the EW monthly return for each portfolio of the not forward looking type\n",
        "# (this is done by using the 'decile no look ahead' deciles)\n",
        "\n",
        "Returns_decile = CRSP_data.groupby(['decile no look ahead','date'])['return'].mean()\n",
        "\n",
        "# Call the function to compute the statistics\n",
        "print('Equally weighted betting on predicted beta performance:')\n",
        "High_minus_Low_Beta_Performance(Returns_decile)"
      ],
      "execution_count": 20,
      "outputs": [
        {
          "output_type": "stream",
          "text": [
            "Equally weighted betting on predicted beta performance:\n"
          ],
          "name": "stdout"
        },
        {
          "output_type": "display_data",
          "data": {
            "text/html": [
              "<div>\n",
              "<style scoped>\n",
              "    .dataframe tbody tr th:only-of-type {\n",
              "        vertical-align: middle;\n",
              "    }\n",
              "\n",
              "    .dataframe tbody tr th {\n",
              "        vertical-align: top;\n",
              "    }\n",
              "\n",
              "    .dataframe thead th {\n",
              "        text-align: right;\n",
              "    }\n",
              "</style>\n",
              "<table border=\"1\" class=\"dataframe\">\n",
              "  <thead>\n",
              "    <tr style=\"text-align: right;\">\n",
              "      <th></th>\n",
              "      <th>Return</th>\n",
              "      <th>Standard deviation</th>\n",
              "      <th>t-statistic</th>\n",
              "      <th>p-value</th>\n",
              "    </tr>\n",
              "  </thead>\n",
              "  <tbody>\n",
              "    <tr>\n",
              "      <th>High minus Low Beta Strategy</th>\n",
              "      <td>0.005558</td>\n",
              "      <td>0.130185</td>\n",
              "      <td>1.035295</td>\n",
              "      <td>0.300958</td>\n",
              "    </tr>\n",
              "  </tbody>\n",
              "</table>\n",
              "</div>"
            ],
            "text/plain": [
              "                                Return  Standard deviation  t-statistic  \\\n",
              "High minus Low Beta Strategy  0.005558            0.130185     1.035295   \n",
              "\n",
              "                               p-value  \n",
              "High minus Low Beta Strategy  0.300958  "
            ]
          },
          "metadata": {
            "tags": []
          }
        }
      ]
    },
    {
      "metadata": {
        "id": "wm7T5odSwSKU",
        "colab_type": "code",
        "colab": {}
      },
      "cell_type": "code",
      "source": [
        "#  Is the return to this strategy statistically different from zero ?"
      ],
      "execution_count": 0,
      "outputs": []
    },
    {
      "metadata": {
        "id": "SVB8RxlHwSKZ",
        "colab_type": "text"
      },
      "cell_type": "markdown",
      "source": [
        "We would expect if the CAPM holds, the return from this strategy to be different from zero. But we cannot \n",
        "discard the hypothesis that this return is 0 there is not strong evidence against it. So the return\n",
        "is not statistically different from zero."
      ]
    },
    {
      "metadata": {
        "id": "r8Y0b5wTwSKc",
        "colab_type": "code",
        "colab": {}
      },
      "cell_type": "code",
      "source": [
        "# Compare  equal-weighting  and value-weighting"
      ],
      "execution_count": 0,
      "outputs": []
    },
    {
      "metadata": {
        "id": "OS2SNl_AwSKk",
        "colab_type": "text"
      },
      "cell_type": "markdown",
      "source": [
        "#### We calculated the equal-weighting results with the no forward looking betas. Let's calculate the value-weighted returns."
      ]
    },
    {
      "metadata": {
        "id": "WqjD96-zwSKl",
        "colab_type": "code",
        "colab": {
          "base_uri": "https://localhost:8080/",
          "height": 991
        },
        "outputId": "0225a046-1fc1-404a-c032-5f58e2c50efc"
      },
      "cell_type": "code",
      "source": [
        "# SHOULD WE BE PLOTTING AGAINST PREDICTED BETA OR REALIZED BETA????\n",
        "\n",
        "info_VW_no_look_ahead = DataFrame()\n",
        "\n",
        "# Value-weigthed returns:\n",
        "info_VW_no_look_ahead['VW return'] = CRSP_data.groupby(['decile no look ahead','date']).apply(VW_average,'return','Market cap').groupby('decile no look ahead').mean()\n",
        "info_VW_no_look_ahead['VW beta no look ahead']   = CRSP_data.groupby(['decile no look ahead','date']).apply(VW_average,'beta no look ahead','Market cap').groupby('decile no look ahead').mean()\n",
        "\n",
        "plot_CAPM(info_VW_no_look_ahead['VW beta no look ahead'], info_VW_no_look_ahead['VW return'],\n",
        "         'Average return versus predicted beta for value weighted returns')\n",
        "display(info_VW_no_look_ahead)\n"
      ],
      "execution_count": 23,
      "outputs": [
        {
          "output_type": "display_data",
          "data": {
            "image/png": "[encoded data removed]",
            "text/plain": [
              "<Figure size 720x576 with 1 Axes>"
            ]
          },
          "metadata": {
            "tags": []
          }
        },
        {
          "output_type": "display_data",
          "data": {
            "text/html": [
              "<div>\n",
              "<style scoped>\n",
              "    .dataframe tbody tr th:only-of-type {\n",
              "        vertical-align: middle;\n",
              "    }\n",
              "\n",
              "    .dataframe tbody tr th {\n",
              "        vertical-align: top;\n",
              "    }\n",
              "\n",
              "    .dataframe thead th {\n",
              "        text-align: right;\n",
              "    }\n",
              "</style>\n",
              "<table border=\"1\" class=\"dataframe\">\n",
              "  <thead>\n",
              "    <tr style=\"text-align: right;\">\n",
              "      <th></th>\n",
              "      <th>VW return</th>\n",
              "      <th>VW beta no look ahead</th>\n",
              "    </tr>\n",
              "    <tr>\n",
              "      <th>decile no look ahead</th>\n",
              "      <th></th>\n",
              "      <th></th>\n",
              "    </tr>\n",
              "  </thead>\n",
              "  <tbody>\n",
              "    <tr>\n",
              "      <th>0.0</th>\n",
              "      <td>0.013337</td>\n",
              "      <td>0.069785</td>\n",
              "    </tr>\n",
              "    <tr>\n",
              "      <th>1.0</th>\n",
              "      <td>0.012311</td>\n",
              "      <td>0.394937</td>\n",
              "    </tr>\n",
              "    <tr>\n",
              "      <th>2.0</th>\n",
              "      <td>0.012387</td>\n",
              "      <td>0.604264</td>\n",
              "    </tr>\n",
              "    <tr>\n",
              "      <th>3.0</th>\n",
              "      <td>0.012845</td>\n",
              "      <td>0.780966</td>\n",
              "    </tr>\n",
              "    <tr>\n",
              "      <th>4.0</th>\n",
              "      <td>0.011618</td>\n",
              "      <td>0.945310</td>\n",
              "    </tr>\n",
              "    <tr>\n",
              "      <th>5.0</th>\n",
              "      <td>0.012877</td>\n",
              "      <td>1.106621</td>\n",
              "    </tr>\n",
              "    <tr>\n",
              "      <th>6.0</th>\n",
              "      <td>0.012759</td>\n",
              "      <td>1.279952</td>\n",
              "    </tr>\n",
              "    <tr>\n",
              "      <th>7.0</th>\n",
              "      <td>0.013740</td>\n",
              "      <td>1.491535</td>\n",
              "    </tr>\n",
              "    <tr>\n",
              "      <th>8.0</th>\n",
              "      <td>0.014175</td>\n",
              "      <td>1.781215</td>\n",
              "    </tr>\n",
              "    <tr>\n",
              "      <th>9.0</th>\n",
              "      <td>0.019066</td>\n",
              "      <td>2.386197</td>\n",
              "    </tr>\n",
              "  </tbody>\n",
              "</table>\n",
              "</div>"
            ],
            "text/plain": [
              "                      VW return  VW beta no look ahead\n",
              "decile no look ahead                                  \n",
              "0.0                    0.013337               0.069785\n",
              "1.0                    0.012311               0.394937\n",
              "2.0                    0.012387               0.604264\n",
              "3.0                    0.012845               0.780966\n",
              "4.0                    0.011618               0.945310\n",
              "5.0                    0.012877               1.106621\n",
              "6.0                    0.012759               1.279952\n",
              "7.0                    0.013740               1.491535\n",
              "8.0                    0.014175               1.781215\n",
              "9.0                    0.019066               2.386197"
            ]
          },
          "metadata": {
            "tags": []
          }
        }
      ]
    },
    {
      "metadata": {
        "id": "ieNuZSE-wSKq",
        "colab_type": "text"
      },
      "cell_type": "markdown",
      "source": [
        "For the value weighted, non forward looking beta the regression line is negative."
      ]
    },
    {
      "metadata": {
        "id": "b3YQHTCbwSKu",
        "colab_type": "code",
        "colab": {
          "base_uri": "https://localhost:8080/",
          "height": 202
        },
        "outputId": "ba16d6b5-f6f1-4511-cf41-e404d6ac76df"
      },
      "cell_type": "code",
      "source": [
        "# VW performance:\n",
        "\n",
        "Return_decile_VW_no_look_ahead = CRSP_data.groupby(['decile no look ahead', 'date']).apply(VW_average,'return','Market cap')\n",
        "\n",
        "# Call the function to print the t-statistic of the test:\n",
        "# H0: HML (High Minus Low beta) strategy has a zero mean return.\n",
        "display(Markdown('**Value of the value weighted betting on predicted beta performance:**'))\n",
        "High_minus_Low_Beta_Performance(Return_decile_VW_no_look_ahead )\n"
      ],
      "execution_count": 24,
      "outputs": [
        {
          "output_type": "display_data",
          "data": {
            "text/markdown": "**Value of the value weighted betting on predicted beta performance:**",
            "text/plain": [
              "<IPython.core.display.Markdown object>"
            ]
          },
          "metadata": {
            "tags": []
          }
        },
        {
          "output_type": "display_data",
          "data": {
            "text/html": [
              "<div>\n",
              "<style scoped>\n",
              "    .dataframe tbody tr th:only-of-type {\n",
              "        vertical-align: middle;\n",
              "    }\n",
              "\n",
              "    .dataframe tbody tr th {\n",
              "        vertical-align: top;\n",
              "    }\n",
              "\n",
              "    .dataframe thead th {\n",
              "        text-align: right;\n",
              "    }\n",
              "</style>\n",
              "<table border=\"1\" class=\"dataframe\">\n",
              "  <thead>\n",
              "    <tr style=\"text-align: right;\">\n",
              "      <th></th>\n",
              "      <th>Return</th>\n",
              "      <th>Standard deviation</th>\n",
              "      <th>t-statistic</th>\n",
              "      <th>p-value</th>\n",
              "    </tr>\n",
              "  </thead>\n",
              "  <tbody>\n",
              "    <tr>\n",
              "      <th>High minus Low Beta Strategy</th>\n",
              "      <td>0.005729</td>\n",
              "      <td>0.11952</td>\n",
              "      <td>1.162253</td>\n",
              "      <td>0.245605</td>\n",
              "    </tr>\n",
              "  </tbody>\n",
              "</table>\n",
              "</div>"
            ],
            "text/plain": [
              "                                Return  Standard deviation  t-statistic  \\\n",
              "High minus Low Beta Strategy  0.005729             0.11952     1.162253   \n",
              "\n",
              "                               p-value  \n",
              "High minus Low Beta Strategy  0.245605  "
            ]
          },
          "metadata": {
            "tags": []
          }
        }
      ]
    },
    {
      "metadata": {
        "id": "3P0ZtV9MwSKz",
        "colab_type": "text"
      },
      "cell_type": "markdown",
      "source": [
        "### Part 6\n",
        "\n",
        "*Note that the Fama-McBeth procedure discussed in class, is very similar to the portfolio sorting procedure we just implemented.  Explain how you would implement the Fama-McBeth approach and how it would differ from the approach wehave used in this exercise.*\n",
        "\n",
        "The Fama McBeth approach would consist in a first rolling regression of the returns on the market return. \n",
        "And then a second cross-sectional regression on each specific date of the returns of the stocks on their \n",
        "betas to obtain the excess return from their exposure to the market. Then the lambda (market exposure risk premium) would be averaged across time to see if it was statistically significant from 0.\n",
        "\n",
        "Here we made a statistical significance test on the mean return of a given strategy. The Fama McBeth approach can also be interpreted as a statistical significance test on the mean return of a given strategy. The difference is that in this exercise the weights of the trading strategy are one for the highest beta decile and -1 for the lowest beta decile. Whereas in the Fama McBeth approach the weights of the trading strategy are linerarly correlated to the rolling beta predicted at each specific point in time."
      ]
    },
    {
      "metadata": {
        "id": "TjC0655PwSK0",
        "colab_type": "text"
      },
      "cell_type": "markdown",
      "source": [
        "### Part 7\n",
        "\n",
        "*We will now investigate size portfolios.  In each month, sort stocks into 10 decile portfolios based on their market capitalization in the previous month.*"
      ]
    },
    {
      "metadata": {
        "id": "2uv3g8y1wSK1",
        "colab_type": "code",
        "colab": {
          "base_uri": "https://localhost:8080/",
          "height": 2000
        },
        "outputId": "6afee581-c547-41d9-c307-fe2f35818dcb"
      },
      "cell_type": "code",
      "source": [
        "# DUPLICATE DATA?????????\n",
        "CRSP_data.iloc[0:10000][['return', 'permno']].sort_values(by=['permno', 'date']).groupby(['permno','date']).count()"
      ],
      "execution_count": 25,
      "outputs": [
        {
          "output_type": "execute_result",
          "data": {
            "text/html": [
              "<div>\n",
              "<style scoped>\n",
              "    .dataframe tbody tr th:only-of-type {\n",
              "        vertical-align: middle;\n",
              "    }\n",
              "\n",
              "    .dataframe tbody tr th {\n",
              "        vertical-align: top;\n",
              "    }\n",
              "\n",
              "    .dataframe thead th {\n",
              "        text-align: right;\n",
              "    }\n",
              "</style>\n",
              "<table border=\"1\" class=\"dataframe\">\n",
              "  <thead>\n",
              "    <tr style=\"text-align: right;\">\n",
              "      <th></th>\n",
              "      <th></th>\n",
              "      <th>return</th>\n",
              "    </tr>\n",
              "    <tr>\n",
              "      <th>permno</th>\n",
              "      <th>date</th>\n",
              "      <th></th>\n",
              "    </tr>\n",
              "  </thead>\n",
              "  <tbody>\n",
              "    <tr>\n",
              "      <th rowspan=\"30\" valign=\"top\">10001.0</th>\n",
              "      <th>2009-12-31</th>\n",
              "      <td>1</td>\n",
              "    </tr>\n",
              "    <tr>\n",
              "      <th>2010-01-29</th>\n",
              "      <td>1</td>\n",
              "    </tr>\n",
              "    <tr>\n",
              "      <th>2010-02-26</th>\n",
              "      <td>1</td>\n",
              "    </tr>\n",
              "    <tr>\n",
              "      <th>2010-03-31</th>\n",
              "      <td>1</td>\n",
              "    </tr>\n",
              "    <tr>\n",
              "      <th>2010-04-30</th>\n",
              "      <td>1</td>\n",
              "    </tr>\n",
              "    <tr>\n",
              "      <th>2010-05-28</th>\n",
              "      <td>1</td>\n",
              "    </tr>\n",
              "    <tr>\n",
              "      <th>2010-06-30</th>\n",
              "      <td>1</td>\n",
              "    </tr>\n",
              "    <tr>\n",
              "      <th>2010-07-30</th>\n",
              "      <td>2</td>\n",
              "    </tr>\n",
              "    <tr>\n",
              "      <th>2010-08-31</th>\n",
              "      <td>2</td>\n",
              "    </tr>\n",
              "    <tr>\n",
              "      <th>2010-09-30</th>\n",
              "      <td>2</td>\n",
              "    </tr>\n",
              "    <tr>\n",
              "      <th>2010-10-29</th>\n",
              "      <td>2</td>\n",
              "    </tr>\n",
              "    <tr>\n",
              "      <th>2010-11-30</th>\n",
              "      <td>2</td>\n",
              "    </tr>\n",
              "    <tr>\n",
              "      <th>2010-12-31</th>\n",
              "      <td>2</td>\n",
              "    </tr>\n",
              "    <tr>\n",
              "      <th>2011-01-31</th>\n",
              "      <td>2</td>\n",
              "    </tr>\n",
              "    <tr>\n",
              "      <th>2011-02-28</th>\n",
              "      <td>2</td>\n",
              "    </tr>\n",
              "    <tr>\n",
              "      <th>2011-03-31</th>\n",
              "      <td>2</td>\n",
              "    </tr>\n",
              "    <tr>\n",
              "      <th>2011-04-29</th>\n",
              "      <td>2</td>\n",
              "    </tr>\n",
              "    <tr>\n",
              "      <th>2011-05-31</th>\n",
              "      <td>2</td>\n",
              "    </tr>\n",
              "    <tr>\n",
              "      <th>2011-06-30</th>\n",
              "      <td>2</td>\n",
              "    </tr>\n",
              "    <tr>\n",
              "      <th>2011-07-29</th>\n",
              "      <td>2</td>\n",
              "    </tr>\n",
              "    <tr>\n",
              "      <th>2011-08-31</th>\n",
              "      <td>2</td>\n",
              "    </tr>\n",
              "    <tr>\n",
              "      <th>2011-09-30</th>\n",
              "      <td>2</td>\n",
              "    </tr>\n",
              "    <tr>\n",
              "      <th>2011-10-31</th>\n",
              "      <td>2</td>\n",
              "    </tr>\n",
              "    <tr>\n",
              "      <th>2011-11-30</th>\n",
              "      <td>2</td>\n",
              "    </tr>\n",
              "    <tr>\n",
              "      <th>2011-12-30</th>\n",
              "      <td>2</td>\n",
              "    </tr>\n",
              "    <tr>\n",
              "      <th>2012-01-31</th>\n",
              "      <td>2</td>\n",
              "    </tr>\n",
              "    <tr>\n",
              "      <th>2012-02-29</th>\n",
              "      <td>2</td>\n",
              "    </tr>\n",
              "    <tr>\n",
              "      <th>2012-03-30</th>\n",
              "      <td>2</td>\n",
              "    </tr>\n",
              "    <tr>\n",
              "      <th>2012-04-30</th>\n",
              "      <td>2</td>\n",
              "    </tr>\n",
              "    <tr>\n",
              "      <th>2012-05-31</th>\n",
              "      <td>2</td>\n",
              "    </tr>\n",
              "    <tr>\n",
              "      <th>...</th>\n",
              "      <th>...</th>\n",
              "      <td>...</td>\n",
              "    </tr>\n",
              "    <tr>\n",
              "      <th rowspan=\"30\" valign=\"top\">10137.0</th>\n",
              "      <th>2008-09-30</th>\n",
              "      <td>3</td>\n",
              "    </tr>\n",
              "    <tr>\n",
              "      <th>2008-10-31</th>\n",
              "      <td>3</td>\n",
              "    </tr>\n",
              "    <tr>\n",
              "      <th>2008-11-28</th>\n",
              "      <td>3</td>\n",
              "    </tr>\n",
              "    <tr>\n",
              "      <th>2008-12-31</th>\n",
              "      <td>3</td>\n",
              "    </tr>\n",
              "    <tr>\n",
              "      <th>2009-01-30</th>\n",
              "      <td>3</td>\n",
              "    </tr>\n",
              "    <tr>\n",
              "      <th>2009-02-27</th>\n",
              "      <td>3</td>\n",
              "    </tr>\n",
              "    <tr>\n",
              "      <th>2009-03-31</th>\n",
              "      <td>3</td>\n",
              "    </tr>\n",
              "    <tr>\n",
              "      <th>2009-04-30</th>\n",
              "      <td>3</td>\n",
              "    </tr>\n",
              "    <tr>\n",
              "      <th>2009-05-29</th>\n",
              "      <td>3</td>\n",
              "    </tr>\n",
              "    <tr>\n",
              "      <th>2009-06-30</th>\n",
              "      <td>3</td>\n",
              "    </tr>\n",
              "    <tr>\n",
              "      <th>2009-07-31</th>\n",
              "      <td>3</td>\n",
              "    </tr>\n",
              "    <tr>\n",
              "      <th>2009-08-31</th>\n",
              "      <td>3</td>\n",
              "    </tr>\n",
              "    <tr>\n",
              "      <th>2009-09-30</th>\n",
              "      <td>3</td>\n",
              "    </tr>\n",
              "    <tr>\n",
              "      <th>2009-10-30</th>\n",
              "      <td>3</td>\n",
              "    </tr>\n",
              "    <tr>\n",
              "      <th>2009-11-30</th>\n",
              "      <td>3</td>\n",
              "    </tr>\n",
              "    <tr>\n",
              "      <th>2009-12-31</th>\n",
              "      <td>3</td>\n",
              "    </tr>\n",
              "    <tr>\n",
              "      <th>2010-01-29</th>\n",
              "      <td>3</td>\n",
              "    </tr>\n",
              "    <tr>\n",
              "      <th>2010-02-26</th>\n",
              "      <td>3</td>\n",
              "    </tr>\n",
              "    <tr>\n",
              "      <th>2010-03-31</th>\n",
              "      <td>3</td>\n",
              "    </tr>\n",
              "    <tr>\n",
              "      <th>2010-04-30</th>\n",
              "      <td>3</td>\n",
              "    </tr>\n",
              "    <tr>\n",
              "      <th>2010-05-28</th>\n",
              "      <td>3</td>\n",
              "    </tr>\n",
              "    <tr>\n",
              "      <th>2010-06-30</th>\n",
              "      <td>3</td>\n",
              "    </tr>\n",
              "    <tr>\n",
              "      <th>2010-07-30</th>\n",
              "      <td>3</td>\n",
              "    </tr>\n",
              "    <tr>\n",
              "      <th>2010-08-31</th>\n",
              "      <td>3</td>\n",
              "    </tr>\n",
              "    <tr>\n",
              "      <th>2010-09-30</th>\n",
              "      <td>3</td>\n",
              "    </tr>\n",
              "    <tr>\n",
              "      <th>2010-10-29</th>\n",
              "      <td>3</td>\n",
              "    </tr>\n",
              "    <tr>\n",
              "      <th>2010-11-30</th>\n",
              "      <td>3</td>\n",
              "    </tr>\n",
              "    <tr>\n",
              "      <th>2010-12-31</th>\n",
              "      <td>3</td>\n",
              "    </tr>\n",
              "    <tr>\n",
              "      <th>2011-01-31</th>\n",
              "      <td>3</td>\n",
              "    </tr>\n",
              "    <tr>\n",
              "      <th>2011-02-28</th>\n",
              "      <td>0</td>\n",
              "    </tr>\n",
              "  </tbody>\n",
              "</table>\n",
              "<p>3574 rows × 1 columns</p>\n",
              "</div>"
            ],
            "text/plain": [
              "                    return\n",
              "permno  date              \n",
              "10001.0 2009-12-31       1\n",
              "        2010-01-29       1\n",
              "        2010-02-26       1\n",
              "        2010-03-31       1\n",
              "        2010-04-30       1\n",
              "        2010-05-28       1\n",
              "        2010-06-30       1\n",
              "        2010-07-30       2\n",
              "        2010-08-31       2\n",
              "        2010-09-30       2\n",
              "        2010-10-29       2\n",
              "        2010-11-30       2\n",
              "        2010-12-31       2\n",
              "        2011-01-31       2\n",
              "        2011-02-28       2\n",
              "        2011-03-31       2\n",
              "        2011-04-29       2\n",
              "        2011-05-31       2\n",
              "        2011-06-30       2\n",
              "        2011-07-29       2\n",
              "        2011-08-31       2\n",
              "        2011-09-30       2\n",
              "        2011-10-31       2\n",
              "        2011-11-30       2\n",
              "        2011-12-30       2\n",
              "        2012-01-31       2\n",
              "        2012-02-29       2\n",
              "        2012-03-30       2\n",
              "        2012-04-30       2\n",
              "        2012-05-31       2\n",
              "...                    ...\n",
              "10137.0 2008-09-30       3\n",
              "        2008-10-31       3\n",
              "        2008-11-28       3\n",
              "        2008-12-31       3\n",
              "        2009-01-30       3\n",
              "        2009-02-27       3\n",
              "        2009-03-31       3\n",
              "        2009-04-30       3\n",
              "        2009-05-29       3\n",
              "        2009-06-30       3\n",
              "        2009-07-31       3\n",
              "        2009-08-31       3\n",
              "        2009-09-30       3\n",
              "        2009-10-30       3\n",
              "        2009-11-30       3\n",
              "        2009-12-31       3\n",
              "        2010-01-29       3\n",
              "        2010-02-26       3\n",
              "        2010-03-31       3\n",
              "        2010-04-30       3\n",
              "        2010-05-28       3\n",
              "        2010-06-30       3\n",
              "        2010-07-30       3\n",
              "        2010-08-31       3\n",
              "        2010-09-30       3\n",
              "        2010-10-29       3\n",
              "        2010-11-30       3\n",
              "        2010-12-31       3\n",
              "        2011-01-31       3\n",
              "        2011-02-28       0\n",
              "\n",
              "[3574 rows x 1 columns]"
            ]
          },
          "metadata": {
            "tags": []
          },
          "execution_count": 25
        }
      ]
    },
    {
      "metadata": {
        "id": "Bei0n7w3wSLA",
        "colab_type": "code",
        "colab": {}
      },
      "cell_type": "code",
      "source": [
        "# We define CRSP2 reseting the indexes from CRSP_data.\n",
        "CRSP2=CRSP_data.reset_index()"
      ],
      "execution_count": 0,
      "outputs": []
    },
    {
      "metadata": {
        "id": "_QUhjxBFwSLG",
        "colab_type": "code",
        "colab": {}
      },
      "cell_type": "code",
      "source": [
        "#We remove the duplicates\n",
        "CRSP2=CRSP2.loc[CRSP2[['date','permno']].drop_duplicates().index]"
      ],
      "execution_count": 0,
      "outputs": []
    },
    {
      "metadata": {
        "id": "nSheGIGXwSLK",
        "colab_type": "code",
        "colab": {}
      },
      "cell_type": "code",
      "source": [
        "# We create the 'previous Market cap' column \n",
        "CRSP2['previous Market cap']=CRSP2['Market cap'].shift(1)\n",
        "\n",
        "# We delete the first previous market cap value for all stocks because it is unknown\n",
        "CRSP2.loc[CRSP2['permno'].drop_duplicates().index, 'previous Market cap']=np.nan"
      ],
      "execution_count": 0,
      "outputs": []
    },
    {
      "metadata": {
        "scrolled": true,
        "id": "D3FLrWEZwSLT",
        "colab_type": "code",
        "colab": {}
      },
      "cell_type": "code",
      "source": [
        "# every month form decile portfolios based on the size of the stocks traded.\n",
        "\n",
        "\n",
        "CRSP2['decile SML']= np.nan  # SML stands for Small minus Large !\n",
        "\n",
        "\n",
        "for date in DATES[1:]:\n",
        "    CRSP2.loc[CRSP2['date']==date, 'decile SML'] = qcut(CRSP2\\\n",
        "             .loc[CRSP2['date']==date]['previous Market cap'], 10, labels=range(10))\n",
        "    \n",
        "\n",
        "\n"
      ],
      "execution_count": 0,
      "outputs": []
    },
    {
      "metadata": {
        "id": "NtzsNdlawSLV",
        "colab_type": "code",
        "colab": {
          "base_uri": "https://localhost:8080/",
          "height": 390
        },
        "outputId": "d20fa937-c02b-4db8-eb6e-70403e61f3d9"
      },
      "cell_type": "code",
      "source": [
        "# compute the average returns, volatility and Sharpe ratios of these decile portfolios\n",
        "group_by_decile=CRSP2[['return','decile SML']].groupby('decile SML')\n",
        "\n",
        "\n",
        "info_SML=concat([group_by_decile.mean(), \n",
        "                 group_by_decile.std(),\n",
        "                 (group_by_decile.mean()-Tbill.mean()[0])/group_by_decile.std()],\n",
        "                 axis=1)\n",
        "info_SML.columns=['return','volatility','sharpe ratio']\n",
        "info_SML"
      ],
      "execution_count": 30,
      "outputs": [
        {
          "output_type": "execute_result",
          "data": {
            "text/html": [
              "<div>\n",
              "<style scoped>\n",
              "    .dataframe tbody tr th:only-of-type {\n",
              "        vertical-align: middle;\n",
              "    }\n",
              "\n",
              "    .dataframe tbody tr th {\n",
              "        vertical-align: top;\n",
              "    }\n",
              "\n",
              "    .dataframe thead th {\n",
              "        text-align: right;\n",
              "    }\n",
              "</style>\n",
              "<table border=\"1\" class=\"dataframe\">\n",
              "  <thead>\n",
              "    <tr style=\"text-align: right;\">\n",
              "      <th></th>\n",
              "      <th>return</th>\n",
              "      <th>volatility</th>\n",
              "      <th>sharpe ratio</th>\n",
              "    </tr>\n",
              "    <tr>\n",
              "      <th>decile SML</th>\n",
              "      <th></th>\n",
              "      <th></th>\n",
              "      <th></th>\n",
              "    </tr>\n",
              "  </thead>\n",
              "  <tbody>\n",
              "    <tr>\n",
              "      <th>0.0</th>\n",
              "      <td>0.018151</td>\n",
              "      <td>0.241294</td>\n",
              "      <td>0.059623</td>\n",
              "    </tr>\n",
              "    <tr>\n",
              "      <th>1.0</th>\n",
              "      <td>0.009172</td>\n",
              "      <td>0.190311</td>\n",
              "      <td>0.028417</td>\n",
              "    </tr>\n",
              "    <tr>\n",
              "      <th>2.0</th>\n",
              "      <td>0.009568</td>\n",
              "      <td>0.162236</td>\n",
              "      <td>0.035771</td>\n",
              "    </tr>\n",
              "    <tr>\n",
              "      <th>3.0</th>\n",
              "      <td>0.011204</td>\n",
              "      <td>0.146437</td>\n",
              "      <td>0.050808</td>\n",
              "    </tr>\n",
              "    <tr>\n",
              "      <th>4.0</th>\n",
              "      <td>0.011318</td>\n",
              "      <td>0.134390</td>\n",
              "      <td>0.056204</td>\n",
              "    </tr>\n",
              "    <tr>\n",
              "      <th>5.0</th>\n",
              "      <td>0.011710</td>\n",
              "      <td>0.125504</td>\n",
              "      <td>0.063308</td>\n",
              "    </tr>\n",
              "    <tr>\n",
              "      <th>6.0</th>\n",
              "      <td>0.011396</td>\n",
              "      <td>0.112862</td>\n",
              "      <td>0.067619</td>\n",
              "    </tr>\n",
              "    <tr>\n",
              "      <th>7.0</th>\n",
              "      <td>0.010941</td>\n",
              "      <td>0.103075</td>\n",
              "      <td>0.069628</td>\n",
              "    </tr>\n",
              "    <tr>\n",
              "      <th>8.0</th>\n",
              "      <td>0.010630</td>\n",
              "      <td>0.096227</td>\n",
              "      <td>0.071345</td>\n",
              "    </tr>\n",
              "    <tr>\n",
              "      <th>9.0</th>\n",
              "      <td>0.009310</td>\n",
              "      <td>0.083066</td>\n",
              "      <td>0.066763</td>\n",
              "    </tr>\n",
              "  </tbody>\n",
              "</table>\n",
              "</div>"
            ],
            "text/plain": [
              "              return  volatility  sharpe ratio\n",
              "decile SML                                    \n",
              "0.0         0.018151    0.241294      0.059623\n",
              "1.0         0.009172    0.190311      0.028417\n",
              "2.0         0.009568    0.162236      0.035771\n",
              "3.0         0.011204    0.146437      0.050808\n",
              "4.0         0.011318    0.134390      0.056204\n",
              "5.0         0.011710    0.125504      0.063308\n",
              "6.0         0.011396    0.112862      0.067619\n",
              "7.0         0.010941    0.103075      0.069628\n",
              "8.0         0.010630    0.096227      0.071345\n",
              "9.0         0.009310    0.083066      0.066763"
            ]
          },
          "metadata": {
            "tags": []
          },
          "execution_count": 30
        }
      ]
    },
    {
      "metadata": {
        "id": "_W4NoIDSwSLW",
        "colab_type": "text"
      },
      "cell_type": "markdown",
      "source": [
        "*Plot average return, volatility and Sharpe ratio of the 10-size sorted portfolios.  Is a longshort strategy of Smallest decile minus Biggest decile stocks profitable?*"
      ]
    },
    {
      "metadata": {
        "id": "aOUBJC2XwSLX",
        "colab_type": "code",
        "colab": {
          "base_uri": "https://localhost:8080/",
          "height": 869
        },
        "outputId": "3bf54bc4-0ffe-408f-f3dc-b04d3291b9a5"
      },
      "cell_type": "code",
      "source": [
        "for i in info_SML.columns:\n",
        "    info_SML[i].plot(kind='bar')\n",
        "    title('Average '+i+' of the 10-size sorted portfolios')\n",
        "    ylabel(i)\n",
        "    xlabel('size sorted decile')\n",
        "    show()"
      ],
      "execution_count": 31,
      "outputs": [
        {
          "output_type": "display_data",
          "data": {
            "image/png": "[encoded data removed]",
            "text/plain": [
              "<Figure size 432x288 with 1 Axes>"
            ]
          },
          "metadata": {
            "tags": []
          }
        },
        {
          "output_type": "display_data",
          "data": {
            "image/png": "[encoded data removed]",
            "text/plain": [
              "<Figure size 432x288 with 1 Axes>"
            ]
          },
          "metadata": {
            "tags": []
          }
        },
        {
          "output_type": "display_data",
          "data": {
            "image/png": "[encoded data removed]",
            "text/plain": [
              "<Figure size 432x288 with 1 Axes>"
            ]
          },
          "metadata": {
            "tags": []
          }
        }
      ]
    },
    {
      "metadata": {
        "id": "10ptiJiawSLZ",
        "colab_type": "code",
        "colab": {
          "base_uri": "https://localhost:8080/",
          "height": 143
        },
        "outputId": "ead0c607-eb77-4062-955f-390415d2a0fb"
      },
      "cell_type": "code",
      "source": [
        "def Compute_Performance(Returns_decile, ttype, strategy_name, myDisplay=True):\n",
        "    '''ttype : defines if the strategy should be short decile 0 or long decile 0.\n",
        "    returns decile: is the return indexed by deciles first then date\n",
        "    strategy name: the name of the strategy to display'''\n",
        "    \n",
        "    assert ttype in ['9-0','0-9', '4-0', '0-4'], 'ttype must be \"9-0\", \"0-9\", \"4-0\" or \"0-4\".'\n",
        "    if ttype=='0-9': Returns_Small_minus_Large =  Returns_decile.loc[0] - Returns_decile.loc[9]\n",
        "    if ttype=='9-0': Returns_Small_minus_Large =  Returns_decile.loc[9] - Returns_decile.loc[0]\n",
        "    if ttype=='4-0': Returns_Small_minus_Large =  Returns_decile.loc[4] - Returns_decile.loc[0]\n",
        "    if ttype=='0-4': Returns_Small_minus_Large =  Returns_decile.loc[0] - Returns_decile.loc[4]\n",
        "\n",
        "    # average return:\n",
        "    Mu_Small_minus_Large  =  Returns_Small_minus_Large.mean()\n",
        "\n",
        "    # standard deviation\n",
        "    Std_Small_minus_Large =  Returns_Small_minus_Large.std()\n",
        "    \n",
        "    # Sharpe ratio\n",
        "    Sharpe_ratio = ( Mu_Small_minus_Large - Tbill.mean()[0] ) / Std_Small_minus_Large\n",
        "    \n",
        "    \n",
        "    \n",
        "    # t-statistic:\n",
        "\n",
        "    T = Returns_Small_minus_Large.count()\n",
        "\n",
        "    t = Mu_Small_minus_Large / (Std_Small_minus_Large/sqrt(T))\n",
        "\n",
        "    p_value = 1 - ( student.cdf(abs(t), T-1) - 0.5 ) * 2\n",
        "\n",
        "    \n",
        "    \n",
        "    result= (DataFrame([[Mu_Small_minus_Large, Std_Small_minus_Large, Sharpe_ratio, t, p_value]],\n",
        "                      columns = ['Return','Standard deviation','Sharpe ratio','t-statistic', 'p-value'],\n",
        "                      index = Index([strategy_name]) ))\n",
        "    if(myDisplay): (display(result))\n",
        "    return(result)\n",
        "  \n",
        "  \n",
        "Compute_Performance(CRSP2[['return','decile SML','date']].groupby(['decile SML','date'])['return'].mean(),\n",
        "                             ttype='0-9',\n",
        "                             strategy_name='Small minus Large Strategy')"
      ],
      "execution_count": 88,
      "outputs": [
        {
          "output_type": "display_data",
          "data": {
            "text/html": [
              "<div>\n",
              "<style scoped>\n",
              "    .dataframe tbody tr th:only-of-type {\n",
              "        vertical-align: middle;\n",
              "    }\n",
              "\n",
              "    .dataframe tbody tr th {\n",
              "        vertical-align: top;\n",
              "    }\n",
              "\n",
              "    .dataframe thead th {\n",
              "        text-align: right;\n",
              "    }\n",
              "</style>\n",
              "<table border=\"1\" class=\"dataframe\">\n",
              "  <thead>\n",
              "    <tr style=\"text-align: right;\">\n",
              "      <th></th>\n",
              "      <th>Return</th>\n",
              "      <th>Standard deviation</th>\n",
              "      <th>Sharpe ratio</th>\n",
              "      <th>t-statistic</th>\n",
              "      <th>p-value</th>\n",
              "    </tr>\n",
              "  </thead>\n",
              "  <tbody>\n",
              "    <tr>\n",
              "      <th>Small minus Large Strategy</th>\n",
              "      <td>0.008748</td>\n",
              "      <td>0.067032</td>\n",
              "      <td>0.074351</td>\n",
              "      <td>3.161936</td>\n",
              "      <td>0.001648</td>\n",
              "    </tr>\n",
              "  </tbody>\n",
              "</table>\n",
              "</div>"
            ],
            "text/plain": [
              "                              Return  Standard deviation  Sharpe ratio  \\\n",
              "Small minus Large Strategy  0.008748            0.067032      0.074351   \n",
              "\n",
              "                            t-statistic   p-value  \n",
              "Small minus Large Strategy     3.161936  0.001648  "
            ]
          },
          "metadata": {
            "tags": []
          }
        },
        {
          "output_type": "execute_result",
          "data": {
            "text/html": [
              "<div>\n",
              "<style scoped>\n",
              "    .dataframe tbody tr th:only-of-type {\n",
              "        vertical-align: middle;\n",
              "    }\n",
              "\n",
              "    .dataframe tbody tr th {\n",
              "        vertical-align: top;\n",
              "    }\n",
              "\n",
              "    .dataframe thead th {\n",
              "        text-align: right;\n",
              "    }\n",
              "</style>\n",
              "<table border=\"1\" class=\"dataframe\">\n",
              "  <thead>\n",
              "    <tr style=\"text-align: right;\">\n",
              "      <th></th>\n",
              "      <th>Return</th>\n",
              "      <th>Standard deviation</th>\n",
              "      <th>Sharpe ratio</th>\n",
              "      <th>t-statistic</th>\n",
              "      <th>p-value</th>\n",
              "    </tr>\n",
              "  </thead>\n",
              "  <tbody>\n",
              "    <tr>\n",
              "      <th>Small minus Large Strategy</th>\n",
              "      <td>0.008748</td>\n",
              "      <td>0.067032</td>\n",
              "      <td>0.074351</td>\n",
              "      <td>3.161936</td>\n",
              "      <td>0.001648</td>\n",
              "    </tr>\n",
              "  </tbody>\n",
              "</table>\n",
              "</div>"
            ],
            "text/plain": [
              "                              Return  Standard deviation  Sharpe ratio  \\\n",
              "Small minus Large Strategy  0.008748            0.067032      0.074351   \n",
              "\n",
              "                            t-statistic   p-value  \n",
              "Small minus Large Strategy     3.161936  0.001648  "
            ]
          },
          "metadata": {
            "tags": []
          },
          "execution_count": 88
        }
      ]
    },
    {
      "metadata": {
        "id": "lCSpxWsLwSLb",
        "colab_type": "text"
      },
      "cell_type": "markdown",
      "source": [
        "A longshort strategy of Smallest decile minus the Biggest decile stocks is profitable. The p-value associated to nullity test indicates that at 95% of the cases it is profitable. GRAPH VALUE AT 0 DECILE STRANGE"
      ]
    },
    {
      "metadata": {
        "id": "--HJ5CfQwSLb",
        "colab_type": "text"
      },
      "cell_type": "markdown",
      "source": [
        "### Part 8"
      ]
    },
    {
      "metadata": {
        "id": "U27mpL8ZwSLc",
        "colab_type": "text"
      },
      "cell_type": "markdown",
      "source": [
        "We now want to understand whether this is driven by differences in betas.  Compute the average beta of the 10 size-sorted portfolios by regressing the portfolio excess returns on the market excess returns for the whole sample period."
      ]
    },
    {
      "metadata": {
        "id": "nxSER_4DwSLd",
        "colab_type": "code",
        "colab": {}
      },
      "cell_type": "code",
      "source": [
        "Tbill2=Tbill.copy()\n",
        "Tbill2.columns=['date', 'r0']\n",
        "CRSP2=CRSP2.merge(Tbill2, on='date')"
      ],
      "execution_count": 0,
      "outputs": []
    },
    {
      "metadata": {
        "id": "uitqfCRswSLe",
        "colab_type": "text"
      },
      "cell_type": "markdown",
      "source": [
        "$\\text{Excess return}_{\\text{decile}}=\\alpha_d + \\beta_d r_M$"
      ]
    },
    {
      "metadata": {
        "id": "MrSyVxAjwSLf",
        "colab_type": "code",
        "colab": {
          "base_uri": "https://localhost:8080/",
          "height": 390
        },
        "outputId": "605d2d70-7625-4b23-c082-934753eeb9be"
      },
      "cell_type": "code",
      "source": [
        "beta_EW=[] #EW -> equally weighted\n",
        "for decile in range(10):\n",
        "    # excess return for the decile indexed by date\n",
        "    group=CRSP2.loc[CRSP2['decile SML']==decile].groupby(['date']).mean()\n",
        "    returns=group['return'] # mean over a constant\n",
        "    r0=group['r0']\n",
        "    excess_return=returns-r0\n",
        "    market=group['Market']\n",
        "    beta_EW+=[Series(excess_return).cov(Series(market))/np.var(market)]\n",
        "    \n",
        "info_SML['beta EW']=beta_EW\n",
        "info_SML"
      ],
      "execution_count": 43,
      "outputs": [
        {
          "output_type": "execute_result",
          "data": {
            "text/html": [
              "<div>\n",
              "<style scoped>\n",
              "    .dataframe tbody tr th:only-of-type {\n",
              "        vertical-align: middle;\n",
              "    }\n",
              "\n",
              "    .dataframe tbody tr th {\n",
              "        vertical-align: top;\n",
              "    }\n",
              "\n",
              "    .dataframe thead th {\n",
              "        text-align: right;\n",
              "    }\n",
              "</style>\n",
              "<table border=\"1\" class=\"dataframe\">\n",
              "  <thead>\n",
              "    <tr style=\"text-align: right;\">\n",
              "      <th></th>\n",
              "      <th>return</th>\n",
              "      <th>volatility</th>\n",
              "      <th>sharpe ratio</th>\n",
              "      <th>beta EW</th>\n",
              "    </tr>\n",
              "    <tr>\n",
              "      <th>decile SML</th>\n",
              "      <th></th>\n",
              "      <th></th>\n",
              "      <th></th>\n",
              "      <th></th>\n",
              "    </tr>\n",
              "  </thead>\n",
              "  <tbody>\n",
              "    <tr>\n",
              "      <th>0.0</th>\n",
              "      <td>0.018151</td>\n",
              "      <td>0.241294</td>\n",
              "      <td>0.059623</td>\n",
              "      <td>1.035551</td>\n",
              "    </tr>\n",
              "    <tr>\n",
              "      <th>1.0</th>\n",
              "      <td>0.009172</td>\n",
              "      <td>0.190311</td>\n",
              "      <td>0.028417</td>\n",
              "      <td>1.157830</td>\n",
              "    </tr>\n",
              "    <tr>\n",
              "      <th>2.0</th>\n",
              "      <td>0.009568</td>\n",
              "      <td>0.162236</td>\n",
              "      <td>0.035771</td>\n",
              "      <td>1.200706</td>\n",
              "    </tr>\n",
              "    <tr>\n",
              "      <th>3.0</th>\n",
              "      <td>0.011204</td>\n",
              "      <td>0.146437</td>\n",
              "      <td>0.050808</td>\n",
              "      <td>1.219304</td>\n",
              "    </tr>\n",
              "    <tr>\n",
              "      <th>4.0</th>\n",
              "      <td>0.011318</td>\n",
              "      <td>0.134390</td>\n",
              "      <td>0.056204</td>\n",
              "      <td>1.226323</td>\n",
              "    </tr>\n",
              "    <tr>\n",
              "      <th>5.0</th>\n",
              "      <td>0.011710</td>\n",
              "      <td>0.125504</td>\n",
              "      <td>0.063308</td>\n",
              "      <td>1.190206</td>\n",
              "    </tr>\n",
              "    <tr>\n",
              "      <th>6.0</th>\n",
              "      <td>0.011396</td>\n",
              "      <td>0.112862</td>\n",
              "      <td>0.067619</td>\n",
              "      <td>1.120979</td>\n",
              "    </tr>\n",
              "    <tr>\n",
              "      <th>7.0</th>\n",
              "      <td>0.010941</td>\n",
              "      <td>0.103075</td>\n",
              "      <td>0.069628</td>\n",
              "      <td>1.074462</td>\n",
              "    </tr>\n",
              "    <tr>\n",
              "      <th>8.0</th>\n",
              "      <td>0.010630</td>\n",
              "      <td>0.096227</td>\n",
              "      <td>0.071345</td>\n",
              "      <td>1.038592</td>\n",
              "    </tr>\n",
              "    <tr>\n",
              "      <th>9.0</th>\n",
              "      <td>0.009310</td>\n",
              "      <td>0.083066</td>\n",
              "      <td>0.066763</td>\n",
              "      <td>0.945562</td>\n",
              "    </tr>\n",
              "  </tbody>\n",
              "</table>\n",
              "</div>"
            ],
            "text/plain": [
              "              return  volatility  sharpe ratio   beta EW\n",
              "decile SML                                              \n",
              "0.0         0.018151    0.241294      0.059623  1.035551\n",
              "1.0         0.009172    0.190311      0.028417  1.157830\n",
              "2.0         0.009568    0.162236      0.035771  1.200706\n",
              "3.0         0.011204    0.146437      0.050808  1.219304\n",
              "4.0         0.011318    0.134390      0.056204  1.226323\n",
              "5.0         0.011710    0.125504      0.063308  1.190206\n",
              "6.0         0.011396    0.112862      0.067619  1.120979\n",
              "7.0         0.010941    0.103075      0.069628  1.074462\n",
              "8.0         0.010630    0.096227      0.071345  1.038592\n",
              "9.0         0.009310    0.083066      0.066763  0.945562"
            ]
          },
          "metadata": {
            "tags": []
          },
          "execution_count": 43
        }
      ]
    },
    {
      "metadata": {
        "id": "h8_wBtySwSLh",
        "colab_type": "code",
        "colab": {
          "base_uri": "https://localhost:8080/",
          "height": 390
        },
        "outputId": "da066278-c493-4293-8b68-69eff5468353"
      },
      "cell_type": "code",
      "source": [
        "beta_VW=[]\n",
        "for decile in range(10):\n",
        "    # excess return for the decile indexed by date\n",
        "    group=CRSP2.loc[CRSP2['decile SML']==decile].groupby(['date'])\n",
        "    returns=group.apply(VW_average,'return', 'previous Market cap')\n",
        "    r0=group.apply(VW_average,'r0', 'previous Market cap') # VW mean over a constant\n",
        "    excess_return=returns-r0\n",
        "    market=group.apply(VW_average,'Market', 'previous Market cap')\n",
        "    beta_VW+=[Series(excess_return).cov(Series(market))/np.var(market)]\n",
        "\n",
        "info_SML['beta VW']=beta_VW\n",
        "info_SML"
      ],
      "execution_count": 44,
      "outputs": [
        {
          "output_type": "execute_result",
          "data": {
            "text/html": [
              "<div>\n",
              "<style scoped>\n",
              "    .dataframe tbody tr th:only-of-type {\n",
              "        vertical-align: middle;\n",
              "    }\n",
              "\n",
              "    .dataframe tbody tr th {\n",
              "        vertical-align: top;\n",
              "    }\n",
              "\n",
              "    .dataframe thead th {\n",
              "        text-align: right;\n",
              "    }\n",
              "</style>\n",
              "<table border=\"1\" class=\"dataframe\">\n",
              "  <thead>\n",
              "    <tr style=\"text-align: right;\">\n",
              "      <th></th>\n",
              "      <th>return</th>\n",
              "      <th>volatility</th>\n",
              "      <th>sharpe ratio</th>\n",
              "      <th>beta EW</th>\n",
              "      <th>beta VW</th>\n",
              "    </tr>\n",
              "    <tr>\n",
              "      <th>decile SML</th>\n",
              "      <th></th>\n",
              "      <th></th>\n",
              "      <th></th>\n",
              "      <th></th>\n",
              "      <th></th>\n",
              "    </tr>\n",
              "  </thead>\n",
              "  <tbody>\n",
              "    <tr>\n",
              "      <th>0.0</th>\n",
              "      <td>0.018151</td>\n",
              "      <td>0.241294</td>\n",
              "      <td>0.059623</td>\n",
              "      <td>1.035551</td>\n",
              "      <td>-1.182793</td>\n",
              "    </tr>\n",
              "    <tr>\n",
              "      <th>1.0</th>\n",
              "      <td>0.009172</td>\n",
              "      <td>0.190311</td>\n",
              "      <td>0.028417</td>\n",
              "      <td>1.157830</td>\n",
              "      <td>1.163730</td>\n",
              "    </tr>\n",
              "    <tr>\n",
              "      <th>2.0</th>\n",
              "      <td>0.009568</td>\n",
              "      <td>0.162236</td>\n",
              "      <td>0.035771</td>\n",
              "      <td>1.200706</td>\n",
              "      <td>1.191003</td>\n",
              "    </tr>\n",
              "    <tr>\n",
              "      <th>3.0</th>\n",
              "      <td>0.011204</td>\n",
              "      <td>0.146437</td>\n",
              "      <td>0.050808</td>\n",
              "      <td>1.219304</td>\n",
              "      <td>1.215720</td>\n",
              "    </tr>\n",
              "    <tr>\n",
              "      <th>4.0</th>\n",
              "      <td>0.011318</td>\n",
              "      <td>0.134390</td>\n",
              "      <td>0.056204</td>\n",
              "      <td>1.226323</td>\n",
              "      <td>1.220658</td>\n",
              "    </tr>\n",
              "    <tr>\n",
              "      <th>5.0</th>\n",
              "      <td>0.011710</td>\n",
              "      <td>0.125504</td>\n",
              "      <td>0.063308</td>\n",
              "      <td>1.190206</td>\n",
              "      <td>1.184383</td>\n",
              "    </tr>\n",
              "    <tr>\n",
              "      <th>6.0</th>\n",
              "      <td>0.011396</td>\n",
              "      <td>0.112862</td>\n",
              "      <td>0.067619</td>\n",
              "      <td>1.120979</td>\n",
              "      <td>1.116449</td>\n",
              "    </tr>\n",
              "    <tr>\n",
              "      <th>7.0</th>\n",
              "      <td>0.010941</td>\n",
              "      <td>0.103075</td>\n",
              "      <td>0.069628</td>\n",
              "      <td>1.074462</td>\n",
              "      <td>1.069961</td>\n",
              "    </tr>\n",
              "    <tr>\n",
              "      <th>8.0</th>\n",
              "      <td>0.010630</td>\n",
              "      <td>0.096227</td>\n",
              "      <td>0.071345</td>\n",
              "      <td>1.038592</td>\n",
              "      <td>1.033237</td>\n",
              "    </tr>\n",
              "    <tr>\n",
              "      <th>9.0</th>\n",
              "      <td>0.009310</td>\n",
              "      <td>0.083066</td>\n",
              "      <td>0.066763</td>\n",
              "      <td>0.945562</td>\n",
              "      <td>0.925202</td>\n",
              "    </tr>\n",
              "  </tbody>\n",
              "</table>\n",
              "</div>"
            ],
            "text/plain": [
              "              return  volatility  sharpe ratio   beta EW   beta VW\n",
              "decile SML                                                        \n",
              "0.0         0.018151    0.241294      0.059623  1.035551 -1.182793\n",
              "1.0         0.009172    0.190311      0.028417  1.157830  1.163730\n",
              "2.0         0.009568    0.162236      0.035771  1.200706  1.191003\n",
              "3.0         0.011204    0.146437      0.050808  1.219304  1.215720\n",
              "4.0         0.011318    0.134390      0.056204  1.226323  1.220658\n",
              "5.0         0.011710    0.125504      0.063308  1.190206  1.184383\n",
              "6.0         0.011396    0.112862      0.067619  1.120979  1.116449\n",
              "7.0         0.010941    0.103075      0.069628  1.074462  1.069961\n",
              "8.0         0.010630    0.096227      0.071345  1.038592  1.033237\n",
              "9.0         0.009310    0.083066      0.066763  0.945562  0.925202"
            ]
          },
          "metadata": {
            "tags": []
          },
          "execution_count": 44
        }
      ]
    },
    {
      "metadata": {
        "id": "XfcpbIlRwSLj",
        "colab_type": "text"
      },
      "cell_type": "markdown",
      "source": [
        "Plot the average return for size-sorted portfolios versus their betas.  Compare equal-weighted returns and value-weighted returns.  What do you conclude?"
      ]
    },
    {
      "metadata": {
        "scrolled": false,
        "id": "5_Z2WBdXwSLk",
        "colab_type": "code",
        "colab": {
          "base_uri": "https://localhost:8080/",
          "height": 603
        },
        "outputId": "1dfbe531-76c2-4c76-c85d-a824c6f6d2d4"
      },
      "cell_type": "code",
      "source": [
        "info_SML.plot('beta EW','return', kind='scatter')\n",
        "title('Equal weighted average return for \\nsize-sorted portfolios versus their betas')\n",
        "show()\n",
        "\n",
        "info_SML.plot('beta VW','return', kind='scatter')\n",
        "title('Value weighted average return for \\nsize-sorted portfolios versus their betas')\n",
        "show()"
      ],
      "execution_count": 45,
      "outputs": [
        {
          "output_type": "display_data",
          "data": {
            "image/png": "[encoded data removed]",
            "text/plain": [
              "<Figure size 432x288 with 1 Axes>"
            ]
          },
          "metadata": {
            "tags": []
          }
        },
        {
          "output_type": "display_data",
          "data": {
            "image/png": "[encoded data removed]",
            "text/plain": [
              "<Figure size 432x288 with 1 Axes>"
            ]
          },
          "metadata": {
            "tags": []
          }
        }
      ]
    },
    {
      "metadata": {
        "id": "Q-mT4m-kwSLl",
        "colab_type": "text"
      },
      "cell_type": "markdown",
      "source": [
        "CONCLUDE"
      ]
    },
    {
      "metadata": {
        "id": "iOltxUblwSLm",
        "colab_type": "text"
      },
      "cell_type": "markdown",
      "source": [
        "### Part 9"
      ]
    },
    {
      "metadata": {
        "id": "q8nc6atpwSLn",
        "colab_type": "text"
      },
      "cell_type": "markdown",
      "source": [
        "*In order to better understand the different behavior of the different types of stocks, now construct double-sorted portfolios.*\n",
        "\n",
        "*First, sort stocks in each month based on their lagged  market  capitalization  in to  5  quintiles.* \n"
      ]
    },
    {
      "metadata": {
        "id": "6w3cFtAWwSLn",
        "colab_type": "code",
        "colab": {}
      },
      "cell_type": "code",
      "source": [
        "for date in DATES[1:]: # We don't take the first date because the previous market cap. is unknown !\n",
        "                        # for all stocks\n",
        "    CRSP2.loc[CRSP2['date']==date,'size quintile']=\\\n",
        "        qcut(CRSP2.loc[CRSP2['date']==date]['previous Market cap'],\\\n",
        "             5, labels=range(5))"
      ],
      "execution_count": 0,
      "outputs": []
    },
    {
      "metadata": {
        "id": "9U6raxnOwSLp",
        "colab_type": "text"
      },
      "cell_type": "markdown",
      "source": [
        "\n",
        "*Then  for  each  month  and size quintile, sort stocks based on their CAPM beta into 5 quintiles.*"
      ]
    },
    {
      "metadata": {
        "id": "jRtPRmRMwSLq",
        "colab_type": "code",
        "colab": {}
      },
      "cell_type": "code",
      "source": [
        "#Takes a long time\n",
        "\n",
        "# We create 'beta quintile 1'\n",
        "for quintile in range(5):\n",
        "    for date in DATES[1:]:\n",
        "        # We use a try catch block because when all betas are Nan, the qcut raises an error\n",
        "            try: CRSP2.loc[ (CRSP2['date']==date) & (CRSP2['size quintile']==quintile),'beta quintile']\\\n",
        "                = qcut( CRSP2.loc[ (CRSP2['date']==date) &  (CRSP2['size quintile']==quintile) ]\\\n",
        "                       ['beta'], 5, labels=range(5))\n",
        "            except ValueError:\n",
        "                pass"
      ],
      "execution_count": 0,
      "outputs": []
    },
    {
      "metadata": {
        "id": "AVkXuRhgwSLs",
        "colab_type": "text"
      },
      "cell_type": "markdown",
      "source": [
        "*Use again(a)  the  whole  sample  and  (b)  a  2-year  rolling  window  when  calculating  betas.*"
      ]
    },
    {
      "metadata": {
        "scrolled": true,
        "id": "bHUyeX__wSLs",
        "colab_type": "code",
        "colab": {}
      },
      "cell_type": "code",
      "source": [
        "# We create 'beta quintile 2'\n",
        "for quintile in range(5):\n",
        "    for date in DATES[1:]:\n",
        "        # We use a try catch block because when all betas are Nan, the qcut raises an error\n",
        "            try: CRSP2.loc[ (CRSP2['date']==date) & (CRSP2['size quintile']==quintile),'beta quintile no look']\\\n",
        "                = qcut( CRSP2.loc[ (CRSP2['date']==date) &  (CRSP2['size quintile']==quintile) ]\\\n",
        "                       ['beta no look ahead'], 5, labels=range(5))\n",
        "            except ValueError:\n",
        "                pass"
      ],
      "execution_count": 0,
      "outputs": []
    },
    {
      "metadata": {
        "id": "LB0WC_1zwSLx",
        "colab_type": "text"
      },
      "cell_type": "markdown",
      "source": [
        "*Compute the returns of a long-short strategy for each size quintile that buys the quintile of the high-beta stocks and sells the quintile of the low-beta stocks. What are the mean returns, volatilities and Sharpe ratios of the long-short portfolios?*"
      ]
    },
    {
      "metadata": {
        "id": "GJgTN84iwSLy",
        "colab_type": "code",
        "colab": {
          "base_uri": "https://localhost:8080/",
          "height": 589
        },
        "outputId": "70d1eaf5-7ce5-43ae-f832-5cd34ebce15c"
      },
      "cell_type": "code",
      "source": [
        "beta_types=['full time series beta', 'rolling window beta']\n",
        "beta_codes=['beta quintile', 'beta quintile no look']\n",
        "\n",
        "\n",
        "for i in range(2):\n",
        "  result=[]\n",
        "  for size_q in range(5):\n",
        "    result+=[Compute_Performance( \n",
        "        (CRSP2.loc[CRSP2['size quintile']==size_q])\\\n",
        "        .groupby([beta_codes[i], 'date']).mean()['return']\n",
        "        , '4-0', \n",
        "        str(size_q),\n",
        "        myDisplay=False\n",
        "    )]\n",
        "  print('High minus low beta strategy by size quintile, using '+beta_types[i])\n",
        "  res=concat(result)\n",
        "  res.index.name = 'size quintile'\n",
        "  display(res)\n",
        "  print('\\n\\n')\n",
        "\n"
      ],
      "execution_count": 94,
      "outputs": [
        {
          "output_type": "stream",
          "text": [
            "High minus low beta strategy by size quintile, using full time series beta\n"
          ],
          "name": "stdout"
        },
        {
          "output_type": "display_data",
          "data": {
            "text/html": [
              "<div>\n",
              "<style scoped>\n",
              "    .dataframe tbody tr th:only-of-type {\n",
              "        vertical-align: middle;\n",
              "    }\n",
              "\n",
              "    .dataframe tbody tr th {\n",
              "        vertical-align: top;\n",
              "    }\n",
              "\n",
              "    .dataframe thead th {\n",
              "        text-align: right;\n",
              "    }\n",
              "</style>\n",
              "<table border=\"1\" class=\"dataframe\">\n",
              "  <thead>\n",
              "    <tr style=\"text-align: right;\">\n",
              "      <th></th>\n",
              "      <th>Return</th>\n",
              "      <th>Standard deviation</th>\n",
              "      <th>Sharpe ratio</th>\n",
              "      <th>t-statistic</th>\n",
              "      <th>p-value</th>\n",
              "    </tr>\n",
              "    <tr>\n",
              "      <th>size quintile</th>\n",
              "      <th></th>\n",
              "      <th></th>\n",
              "      <th></th>\n",
              "      <th></th>\n",
              "      <th></th>\n",
              "    </tr>\n",
              "  </thead>\n",
              "  <tbody>\n",
              "    <tr>\n",
              "      <th>0</th>\n",
              "      <td>0.005729</td>\n",
              "      <td>0.097529</td>\n",
              "      <td>0.020143</td>\n",
              "      <td>1.423146</td>\n",
              "      <td>0.155226</td>\n",
              "    </tr>\n",
              "    <tr>\n",
              "      <th>1</th>\n",
              "      <td>0.001780</td>\n",
              "      <td>0.071455</td>\n",
              "      <td>-0.027769</td>\n",
              "      <td>0.603563</td>\n",
              "      <td>0.546368</td>\n",
              "    </tr>\n",
              "    <tr>\n",
              "      <th>2</th>\n",
              "      <td>-0.000667</td>\n",
              "      <td>0.063663</td>\n",
              "      <td>-0.069598</td>\n",
              "      <td>-0.253651</td>\n",
              "      <td>0.799854</td>\n",
              "    </tr>\n",
              "    <tr>\n",
              "      <th>3</th>\n",
              "      <td>-0.002020</td>\n",
              "      <td>0.060188</td>\n",
              "      <td>-0.096102</td>\n",
              "      <td>-0.813093</td>\n",
              "      <td>0.416495</td>\n",
              "    </tr>\n",
              "    <tr>\n",
              "      <th>4</th>\n",
              "      <td>-0.002165</td>\n",
              "      <td>0.054441</td>\n",
              "      <td>-0.108920</td>\n",
              "      <td>-0.963695</td>\n",
              "      <td>0.335596</td>\n",
              "    </tr>\n",
              "  </tbody>\n",
              "</table>\n",
              "</div>"
            ],
            "text/plain": [
              "                 Return  Standard deviation  Sharpe ratio  t-statistic  \\\n",
              "size quintile                                                            \n",
              "0              0.005729            0.097529      0.020143     1.423146   \n",
              "1              0.001780            0.071455     -0.027769     0.603563   \n",
              "2             -0.000667            0.063663     -0.069598    -0.253651   \n",
              "3             -0.002020            0.060188     -0.096102    -0.813093   \n",
              "4             -0.002165            0.054441     -0.108920    -0.963695   \n",
              "\n",
              "                p-value  \n",
              "size quintile            \n",
              "0              0.155226  \n",
              "1              0.546368  \n",
              "2              0.799854  \n",
              "3              0.416495  \n",
              "4              0.335596  "
            ]
          },
          "metadata": {
            "tags": []
          }
        },
        {
          "output_type": "stream",
          "text": [
            "\n",
            "\n",
            "\n",
            "High minus low beta strategy by size quintile, using rolling window beta\n"
          ],
          "name": "stdout"
        },
        {
          "output_type": "display_data",
          "data": {
            "text/html": [
              "<div>\n",
              "<style scoped>\n",
              "    .dataframe tbody tr th:only-of-type {\n",
              "        vertical-align: middle;\n",
              "    }\n",
              "\n",
              "    .dataframe tbody tr th {\n",
              "        vertical-align: top;\n",
              "    }\n",
              "\n",
              "    .dataframe thead th {\n",
              "        text-align: right;\n",
              "    }\n",
              "</style>\n",
              "<table border=\"1\" class=\"dataframe\">\n",
              "  <thead>\n",
              "    <tr style=\"text-align: right;\">\n",
              "      <th></th>\n",
              "      <th>Return</th>\n",
              "      <th>Standard deviation</th>\n",
              "      <th>Sharpe ratio</th>\n",
              "      <th>t-statistic</th>\n",
              "      <th>p-value</th>\n",
              "    </tr>\n",
              "    <tr>\n",
              "      <th>size quintile</th>\n",
              "      <th></th>\n",
              "      <th></th>\n",
              "      <th></th>\n",
              "      <th></th>\n",
              "      <th></th>\n",
              "    </tr>\n",
              "  </thead>\n",
              "  <tbody>\n",
              "    <tr>\n",
              "      <th>0</th>\n",
              "      <td>0.011376</td>\n",
              "      <td>0.153469</td>\n",
              "      <td>0.049596</td>\n",
              "      <td>1.761902</td>\n",
              "      <td>0.078628</td>\n",
              "    </tr>\n",
              "    <tr>\n",
              "      <th>1</th>\n",
              "      <td>0.004631</td>\n",
              "      <td>0.113743</td>\n",
              "      <td>0.007624</td>\n",
              "      <td>0.967875</td>\n",
              "      <td>0.333522</td>\n",
              "    </tr>\n",
              "    <tr>\n",
              "      <th>2</th>\n",
              "      <td>0.001287</td>\n",
              "      <td>0.096933</td>\n",
              "      <td>-0.025558</td>\n",
              "      <td>0.315559</td>\n",
              "      <td>0.752454</td>\n",
              "    </tr>\n",
              "    <tr>\n",
              "      <th>3</th>\n",
              "      <td>-0.001477</td>\n",
              "      <td>0.083960</td>\n",
              "      <td>-0.062421</td>\n",
              "      <td>-0.418046</td>\n",
              "      <td>0.676072</td>\n",
              "    </tr>\n",
              "    <tr>\n",
              "      <th>4</th>\n",
              "      <td>-0.001792</td>\n",
              "      <td>0.077248</td>\n",
              "      <td>-0.071929</td>\n",
              "      <td>-0.562074</td>\n",
              "      <td>0.574280</td>\n",
              "    </tr>\n",
              "  </tbody>\n",
              "</table>\n",
              "</div>"
            ],
            "text/plain": [
              "                 Return  Standard deviation  Sharpe ratio  t-statistic  \\\n",
              "size quintile                                                            \n",
              "0              0.011376            0.153469      0.049596     1.761902   \n",
              "1              0.004631            0.113743      0.007624     0.967875   \n",
              "2              0.001287            0.096933     -0.025558     0.315559   \n",
              "3             -0.001477            0.083960     -0.062421    -0.418046   \n",
              "4             -0.001792            0.077248     -0.071929    -0.562074   \n",
              "\n",
              "                p-value  \n",
              "size quintile            \n",
              "0              0.078628  \n",
              "1              0.333522  \n",
              "2              0.752454  \n",
              "3              0.676072  \n",
              "4              0.574280  "
            ]
          },
          "metadata": {
            "tags": []
          }
        },
        {
          "output_type": "stream",
          "text": [
            "\n",
            "\n",
            "\n"
          ],
          "name": "stdout"
        }
      ]
    },
    {
      "metadata": {
        "id": "Z98YCt1HwSL0",
        "colab_type": "text"
      },
      "cell_type": "markdown",
      "source": [
        "*Plot the returns against their CAPM betas.  How do the mean returns compare to the CAPM-predicted returns (keep in mind that you are dealing with excess returns now when predicting returns with the CAPM)? Do your analysis for value-weighted returns, equally weighted returns as well as for a beta calculation based on the whole sample and based on a 2-year rolling window. Are your results consistent with your findings above on the different behavior of value-weighted vs.  equally weighted returns?*"
      ]
    },
    {
      "metadata": {
        "id": "GUNHkUhY1xqA",
        "colab_type": "code",
        "colab": {
          "base_uri": "https://localhost:8080/",
          "height": 102
        },
        "outputId": "8499b0e6-fc88-4d77-e8b5-4e46f81336b1"
      },
      "cell_type": "code",
      "source": [
        "def compute_beta(dataframe):\n",
        "  ''' dataframe : must have \"return\", \"Market\", and \"r0\" and be indexed by dates '''\n",
        "  excess_returns = dataframe['return']- dataframe['r0']\n",
        "  return excess_returns.cov(dataframe['Market']) / var(dataframe['Market'])\n",
        "\n",
        "\n",
        "# compute the betas\n",
        "betas = []\n",
        "for size_q in range(5):\n",
        "    betas += [compute_beta( \n",
        "        CRSP2.loc[CRSP2['size quintile']==size_q]\\\n",
        "        .groupby(['date']).mean()\n",
        "    )]\n",
        "betas"
      ],
      "execution_count": 96,
      "outputs": [
        {
          "output_type": "execute_result",
          "data": {
            "text/plain": [
              "[1.0968297943393088,\n",
              " 1.2095045290006374,\n",
              " 1.2084078443888622,\n",
              " 1.0973043993988074,\n",
              " 0.9914803591634974]"
            ]
          },
          "metadata": {
            "tags": []
          },
          "execution_count": 96
        }
      ]
    }
  ]
}